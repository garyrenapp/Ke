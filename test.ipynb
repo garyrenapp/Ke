{
 "cells": [
  {
   "cell_type": "code",
   "execution_count": 1,
   "metadata": {},
   "outputs": [],
   "source": [
    "from ke import Ke"
   ]
  },
  {
   "cell_type": "markdown",
   "metadata": {},
   "source": [
    "# Rent\n",
    "\n",
    "### Debug\n",
    "1. 有未知报错，请检查: https://bj.zu.ke.com/zufang/BJ2231281092281761792.html\n",
    "2. 为什么3000次循环只保存下1571行数据？\n",
    "\n",
    "### Performance\n",
    "1. 2019-4-17 14:08:30  `1h 11min 48s`, `1571 rows × 42 columns`\n",
    "2. 2019-4-18 08:42:19  `1h 7min 49s`, `1593 rows × 48 columns`"
   ]
  },
  {
   "cell_type": "code",
   "execution_count": null,
   "metadata": {
    "scrolled": true
   },
   "outputs": [
    {
     "name": "stdout",
     "output_type": "stream",
     "text": [
      "开始获取当前筛选条件下的所有房源页链接。Windows平台下，请勿最小化浏览器。\n"
     ]
    },
    {
     "name": "stderr",
     "output_type": "stream",
     "text": [
      "100%|████████████████████████████████████████████| 4/4 [00:03<00:00,  1.05it/s]\n"
     ]
    },
    {
     "name": "stdout",
     "output_type": "stream",
     "text": [
      "开始获取房源具体信息。\n"
     ]
    },
    {
     "name": "stderr",
     "output_type": "stream",
     "text": [
      " 16%|██████▍                                  | 22/140 [00:48<04:24,  2.25s/it]"
     ]
    },
    {
     "name": "stdout",
     "output_type": "stream",
     "text": [
      "无小区最新成交信息： https://bj.zu.ke.com/zufang/BJ2212279975636647936.html?h=BJ2212279975636647936&t=default&click_position=25\n"
     ]
    },
    {
     "name": "stderr",
     "output_type": "stream",
     "text": [
      " 18%|███████▎                                 | 25/140 [00:55<04:15,  2.23s/it]"
     ]
    },
    {
     "name": "stdout",
     "output_type": "stream",
     "text": [
      "无小区最新成交信息： https://bj.zu.ke.com/zufang/BJ2212269012757790720.html?h=BJ2212269012757790720&t=default&click_position=12\n"
     ]
    },
    {
     "name": "stderr",
     "output_type": "stream",
     "text": [
      " 36%|██████████████▉                          | 51/140 [01:52<03:09,  2.13s/it]"
     ]
    },
    {
     "name": "stdout",
     "output_type": "stream",
     "text": [
      "无小区最新成交信息： https://bj.zu.ke.com/zufang/BJ2212269017421856768.html?h=BJ2212269017421856768&t=default&click_position=13\n"
     ]
    },
    {
     "name": "stderr",
     "output_type": "stream",
     "text": [
      " 82%|████████████████████████████████▊       | 115/140 [03:50<00:43,  1.75s/it]"
     ]
    },
    {
     "name": "stdout",
     "output_type": "stream",
     "text": [
      "无小区最新成交信息： https://bj.zu.ke.com/zufang/BJ2212269004469305344.html?h=BJ2212269004469305344&t=default&click_position=11\n"
     ]
    },
    {
     "name": "stderr",
     "output_type": "stream",
     "text": [
      " 86%|██████████████████████████████████▌     | 121/140 [03:59<00:27,  1.46s/it]"
     ]
    }
   ],
   "source": [
    "%%time\n",
    "df = Ke(url='https://bj.zu.ke.com/zufang/shuangjing/rt200600000001l0/', keyword='北京双井一居整租').ke_scraper_rent(export='csv')"
   ]
  },
  {
   "cell_type": "code",
   "execution_count": null,
   "metadata": {
    "scrolled": true
   },
   "outputs": [],
   "source": [
    "df"
   ]
  },
  {
   "cell_type": "code",
   "execution_count": null,
   "metadata": {},
   "outputs": [],
   "source": []
  }
 ],
 "metadata": {
  "kernelspec": {
   "display_name": "Python 3",
   "language": "python",
   "name": "python3"
  },
  "language_info": {
   "codemirror_mode": {
    "name": "ipython",
    "version": 3
   },
   "file_extension": ".py",
   "mimetype": "text/x-python",
   "name": "python",
   "nbconvert_exporter": "python",
   "pygments_lexer": "ipython3",
   "version": "3.7.1"
  }
 },
 "nbformat": 4,
 "nbformat_minor": 2
}
