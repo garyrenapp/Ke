{
 "cells": [
  {
   "cell_type": "code",
   "execution_count": 1,
   "metadata": {},
   "outputs": [],
   "source": [
    "from ke import Ke"
   ]
  },
  {
   "cell_type": "code",
   "execution_count": null,
   "metadata": {
    "scrolled": true
   },
   "outputs": [
    {
     "name": "stdout",
     "output_type": "stream",
     "text": [
      "开始获取当前筛选条件下的所有房源页链接。\n"
     ]
    },
    {
     "name": "stderr",
     "output_type": "stream",
     "text": [
      "100%|██████████████████████████████████████████| 99/99 [01:23<00:00,  1.37it/s]\n",
      "  0%|                                                 | 0/3000 [00:00<?, ?it/s]"
     ]
    },
    {
     "name": "stdout",
     "output_type": "stream",
     "text": [
      "整租 金台路地铁 近朝阳公园 装修好 诚意出租 带车位\n",
      "https://bj.zu.ke.com/zufang/BJ2163168689300439040.html 2019-03-23\n",
      "BJ2163168689300439040\n",
      "https://ke-image.ljcdn.com/ehr-personnel/20180822150725794SSWTFBRM.jpg\n",
      "无信息卡号。\n",
      "['https://ke-image.ljcdn.com/110000-inspection/2ac179b8-3448-43f7-9665-75b457a1f35c.jpg.780x439.jpg', 'https://ke-image.ljcdn.com/110000-inspection/9fe6a4d2-cee4-4979-aa72-b6d6e85eea36.jpg.780x439.jpg', 'https://s1.ljcdn.com/matrix_pc/dist/pc/src/resource/default/780-439.png?_v=20190411190841403', 'https://s1.ljcdn.com/matrix_pc/dist/pc/src/resource/default/780-439.png?_v=20190411190841403', 'https://s1.ljcdn.com/matrix_pc/dist/pc/src/resource/default/780-439.png?_v=20190411190841403', 'https://ke-image.ljcdn.com/110000-inspection/22508756-83ee-46e3-9d19-a3e637e0918c.jpg.780x439.jpg']\n",
      "16000\n",
      "['近地铁', '精装', '集中供暖', '随时看房']\n",
      "1室1厅1卫 82 东南\n",
      "4000608711转4682\n"
     ]
    },
    {
     "name": "stderr",
     "output_type": "stream",
     "text": [
      "\r",
      "  0%|                                       | 1/3000 [00:01<1:26:07,  1.72s/it]"
     ]
    },
    {
     "name": "stdout",
     "output_type": "stream",
     "text": [
      "整租 东恒时代二期 1室1厅\n",
      "https://bj.zu.ke.com/zufang/BJ2217309975792336896.html 2019-03-21\n",
      "BJ2217309975792336896\n",
      "https://ke-image.ljcdn.com/rent-user-avatar/849f9a65-a4ca-484b-9e51-7f8677fa46c0\n",
      "无信息卡号。\n",
      "['https://ke-image.ljcdn.com/rent-user-avatar/332ed101-4fdf-46a9-93e5-0b20e2b83ac0.780x439.jpg', 'https://ke-image.ljcdn.com/rent-user-avatar/7036818f-70e9-4065-a7a9-627de31bf8d1.780x439.jpg', 'https://s1.ljcdn.com/matrix_pc/dist/pc/src/resource/default/780-439.png?_v=20190411190841403', 'https://s1.ljcdn.com/matrix_pc/dist/pc/src/resource/default/780-439.png?_v=20190411190841403', 'https://s1.ljcdn.com/matrix_pc/dist/pc/src/resource/default/780-439.png?_v=20190411190841403', 'https://s1.ljcdn.com/matrix_pc/dist/pc/src/resource/default/780-439.png?_v=20190411190841403', 'https://s1.ljcdn.com/matrix_pc/dist/pc/src/resource/default/780-439.png?_v=20190411190841403', 'https://ke-image.ljcdn.com/rent-user-avatar/db3a9372-dc02-47b4-9543-81f9c37a8ed0.780x439.jpg']\n",
      "7300\n",
      "['在线签约', '公寓', '近地铁', '精装', '随时看房']\n",
      "1室1厅1卫 58 东北\n",
      "4000608673转5657\n"
     ]
    },
    {
     "name": "stderr",
     "output_type": "stream",
     "text": [
      "  0%|                                       | 3/3000 [00:03<1:07:22,  1.35s/it]"
     ]
    },
    {
     "name": "stdout",
     "output_type": "stream",
     "text": [
      "整租 宝丰大厦 3室1厅 5500元\n",
      "https://bj.zu.ke.com/zufang/BJ2163169521073405952.html 2019-03-03\n",
      "BJ2163169521073405952\n",
      "https://ke-image.ljcdn.com/ehr-personnel/20180822112923603WJ2IVYGV.jpg\n",
      "无信息卡号。\n",
      "['https://ke-image.ljcdn.com/110000-inspection/prod-9e67a9d3-98fc-4697-966e-64e3f99cd9f3.jpg.780x439.jpg', 'https://ke-image.ljcdn.com/110000-inspection/prod-c34bce2d-cf76-4cce-ab1b-20dbda35acb4.jpeg.780x439.jpg', 'https://s1.ljcdn.com/matrix_pc/dist/pc/src/resource/default/780-439.png?_v=20190411190841403', 'https://s1.ljcdn.com/matrix_pc/dist/pc/src/resource/default/780-439.png?_v=20190411190841403', 'https://s1.ljcdn.com/matrix_pc/dist/pc/src/resource/default/780-439.png?_v=20190411190841403', 'https://s1.ljcdn.com/matrix_pc/dist/pc/src/resource/default/780-439.png?_v=20190411190841403', 'https://s1.ljcdn.com/matrix_pc/dist/pc/src/resource/default/780-439.png?_v=20190411190841403', 'https://s1.ljcdn.com/matrix_pc/dist/pc/src/resource/default/780-439.png?_v=20190411190841403', 'https://ke-image.ljcdn.com/110000-inspection/prod-333ba0c0-4e47-4140-81b1-d3f6a965aec1.png.780x439.jpg']\n",
      "5500\n",
      "['近地铁', '集中供暖', '随时看房']\n",
      "3室1厅1卫 102 西北\n",
      "4000608255转4546\n"
     ]
    },
    {
     "name": "stderr",
     "output_type": "stream",
     "text": [
      "\r",
      "  0%|                                       | 4/3000 [00:05<1:17:04,  1.54s/it]"
     ]
    },
    {
     "name": "stdout",
     "output_type": "stream",
     "text": [
      "https://bj.zu.ke.com/zufang/BJ2173834470623281152.html 租赁方式未知 白广路东里1号院 1室1厅 6800元\n",
      "https://bj.zu.ke.com/zufang/BJ2173834470623281152.html 2019-03-02\n",
      "BJ2173834470623281152\n",
      "https://ke-image.ljcdn.com/ehr-personnel/20180823095443064CQ4S9UDW.jpg\n",
      "无信息卡号。\n",
      "['https://ke-image.ljcdn.com/110000-inspection/prod-66c4395d-76ba-4e7a-a690-bfccfe89b1d4.jpg.780x439.jpg', 'https://ke-image.ljcdn.com/hdic-frame/prod-962c6104-85b7-445c-a309-0fa341cdc7a6.png.780x439.jpg', 'https://s1.ljcdn.com/matrix_pc/dist/pc/src/resource/default/780-439.png?_v=20190411190841403', 'https://s1.ljcdn.com/matrix_pc/dist/pc/src/resource/default/780-439.png?_v=20190411190841403', 'https://s1.ljcdn.com/matrix_pc/dist/pc/src/resource/default/780-439.png?_v=20190411190841403', 'https://s1.ljcdn.com/matrix_pc/dist/pc/src/resource/default/780-439.png?_v=20190411190841403', 'https://ke-image.ljcdn.com/110000-inspection/prod-b07a2616-6dc2-4c73-bc27-c98b48c071ea.jpg.780x439.jpg']\n",
      "6800\n",
      "['近地铁', '集中供暖', '随时看房']\n",
      "1室1厅1卫 66 南 北\n",
      "4000608714转5597\n"
     ]
    },
    {
     "name": "stderr",
     "output_type": "stream",
     "text": [
      "\r",
      "  0%|                                       | 5/3000 [00:07<1:12:33,  1.45s/it]"
     ]
    },
    {
     "name": "stdout",
     "output_type": "stream",
     "text": [
      "整租 八里庄北里小区 1室1厅\n",
      "https://bj.zu.ke.com/zufang/BJ2217306796383805440.html 2019-03-21\n",
      "BJ2217306796383805440\n",
      "https://ke-image.ljcdn.com/rent-user-avatar/849f9a65-a4ca-484b-9e51-7f8677fa46c0\n",
      "无信息卡号。\n",
      "['https://ke-image.ljcdn.com/rent-user-avatar/7048b3e7-2e30-44b0-89fb-a4050cd349a1.780x439.jpg', 'https://ke-image.ljcdn.com/rent-user-avatar/f1813735-b5f1-4bcc-87c5-662c047be70f.780x439.jpg', 'https://s1.ljcdn.com/matrix_pc/dist/pc/src/resource/default/780-439.png?_v=20190411190841403', 'https://s1.ljcdn.com/matrix_pc/dist/pc/src/resource/default/780-439.png?_v=20190411190841403', 'https://s1.ljcdn.com/matrix_pc/dist/pc/src/resource/default/780-439.png?_v=20190411190841403', 'https://s1.ljcdn.com/matrix_pc/dist/pc/src/resource/default/780-439.png?_v=20190411190841403', 'https://ke-image.ljcdn.com/rent-user-avatar/3367b478-e338-42a1-8948-627441add34c.780x439.jpg']\n",
      "4600\n",
      "['在线签约', '公寓', '近地铁', '精装', '随时看房']\n",
      "1室1厅1卫 50 南 北\n",
      "4000608249转2738\n"
     ]
    },
    {
     "name": "stderr",
     "output_type": "stream",
     "text": [
      "  0%|                                       | 7/3000 [00:09<1:03:20,  1.27s/it]"
     ]
    },
    {
     "name": "stdout",
     "output_type": "stream",
     "text": [
      "整租 九龙花园 精装开间 家具家电齐全 随时拎包入住\n",
      "https://bj.zu.ke.com/zufang/BJ2199829810480414720.html 2019-03-03\n",
      "BJ2199829810480414720\n",
      "https://ke-image.ljcdn.com/ehr-personnel/20180823162557337RRZ1KCVQ.jpg\n",
      "无信息卡号。\n",
      "['https://ke-image.ljcdn.com/hdic-frame/test-909910ac-3f34-4c69-889b-432b84032dd3.png.780x439.jpg', 'https://ke-image.ljcdn.com/110000-inspection/0ca78352-166c-4d5c-bc6f-29aeda607a7b.jpg.780x439.jpg', 'https://s1.ljcdn.com/matrix_pc/dist/pc/src/resource/default/780-439.png?_v=20190411190841403', 'https://s1.ljcdn.com/matrix_pc/dist/pc/src/resource/default/780-439.png?_v=20190411190841403', 'https://ke-image.ljcdn.com/110000-inspection/c3c4083e-de57-45a1-bbd4-2d9b725045df.jpg.780x439.jpg']\n",
      "6500\n",
      "['近地铁', '精装', '集中供暖', '随时看房']\n",
      "1室0厅1卫 53 南\n",
      "4000608687转2413\n"
     ]
    },
    {
     "name": "stderr",
     "output_type": "stream",
     "text": [
      "\r",
      "  0%|                                       | 8/3000 [00:10<1:05:23,  1.31s/it]"
     ]
    },
    {
     "name": "stdout",
     "output_type": "stream",
     "text": [
      "整租 定福庄北里1号院两居室出租。。\n",
      "https://bj.zu.ke.com/zufang/BJ2201341653430566912.html 2019-03-21\n",
      "BJ2201341653430566912\n",
      "https://ke-image.ljcdn.com/ehr-personnel/20180822152657588AENSFQE4.jpg\n",
      "无信息卡号。\n",
      "['https://ke-image.ljcdn.com/110000-inspection/f48d23ec-8ec6-4009-a17a-422e36826577.jpg.780x439.jpg', 'https://ke-image.ljcdn.com/hdic-frame/0dce6173-1ce7-4e75-bc60-149ee4d052b8.png.780x439.jpg', 'https://s1.ljcdn.com/matrix_pc/dist/pc/src/resource/default/780-439.png?_v=20190411190841403', 'https://s1.ljcdn.com/matrix_pc/dist/pc/src/resource/default/780-439.png?_v=20190411190841403', 'https://s1.ljcdn.com/matrix_pc/dist/pc/src/resource/default/780-439.png?_v=20190411190841403', 'https://s1.ljcdn.com/matrix_pc/dist/pc/src/resource/default/780-439.png?_v=20190411190841403', 'https://s1.ljcdn.com/matrix_pc/dist/pc/src/resource/default/780-439.png?_v=20190411190841403', 'https://ke-image.ljcdn.com/110000-inspection/93e898f6-d965-448e-86ec-0665344d08de.jpg.780x439.jpg']\n",
      "5800\n",
      "['近地铁', '精装', '集中供暖', '随时看房']\n",
      "2室1厅1卫 55 南\n",
      "4000608697转2285\n"
     ]
    },
    {
     "name": "stderr",
     "output_type": "stream",
     "text": [
      "\r",
      "  0%|                                       | 9/3000 [00:11<1:03:59,  1.28s/it]"
     ]
    },
    {
     "name": "stdout",
     "output_type": "stream",
     "text": [
      "整租 百子湾东四环后现代城A区开间北向家电家具齐全\n",
      "https://bj.zu.ke.com/zufang/BJ2202183920500613120.html 2019-03-26\n",
      "BJ2202183920500613120\n",
      "https://ke-image.ljcdn.com/ehr-personnel/20181117130954629ELNI32T6.jpg\n",
      "无信息卡号。\n",
      "['https://ke-image.ljcdn.com/hdic-frame/e809fd61-1189-4f79-bae3-13758c9e5b1f.png.780x439.jpg', 'https://ke-image.ljcdn.com/110000-inspection/a43255b4-aebb-4104-9eba-e9b4d7679dc1.jpg.780x439.jpg', 'https://s1.ljcdn.com/matrix_pc/dist/pc/src/resource/default/780-439.png?_v=20190411190841403', 'https://s1.ljcdn.com/matrix_pc/dist/pc/src/resource/default/780-439.png?_v=20190411190841403', 'https://ke-image.ljcdn.com/110000-inspection/3c066d88-d298-477d-b6c3-9c9281bbf5d6.jpg.780x439.jpg']\n",
      "6000\n",
      "['近地铁', '集中供暖', '随时看房']\n",
      "1室0厅1卫 48 北\n",
      "4000608694转3437\n"
     ]
    },
    {
     "name": "stderr",
     "output_type": "stream",
     "text": [
      "\r",
      "  0%|▏                                     | 10/3000 [00:13<1:06:50,  1.34s/it]"
     ]
    },
    {
     "name": "stdout",
     "output_type": "stream",
     "text": [
      "整租 远洋新天地 1室1厅\n",
      "https://bj.zu.ke.com/zufang/BJ2220004821866651648.html 2019-03-25\n",
      "BJ2220004821866651648\n",
      "https://ke-image.ljcdn.com/rent-user-avatar/1943d55f-b556-4020-b435-068198701172\n",
      "无信息卡号。\n",
      "['https://ke-image.ljcdn.com/rent-user-avatar/01b0860d-5b1b-4593-8c87-2308fb768b43.780x439.jpg', 'https://ke-image.ljcdn.com/rent-user-avatar/43060169-0d83-48eb-859d-f52e56be777f.780x439.jpg', 'https://s1.ljcdn.com/matrix_pc/dist/pc/src/resource/default/780-439.png?_v=20190411190841403', 'https://s1.ljcdn.com/matrix_pc/dist/pc/src/resource/default/780-439.png?_v=20190411190841403', 'https://s1.ljcdn.com/matrix_pc/dist/pc/src/resource/default/780-439.png?_v=20190411190841403', 'https://s1.ljcdn.com/matrix_pc/dist/pc/src/resource/default/780-439.png?_v=20190411190841403', 'https://s1.ljcdn.com/matrix_pc/dist/pc/src/resource/default/780-439.png?_v=20190411190841403', 'https://s1.ljcdn.com/matrix_pc/dist/pc/src/resource/default/780-439.png?_v=20190411190841403', 'https://s1.ljcdn.com/matrix_pc/dist/pc/src/resource/default/780-439.png?_v=20190411190841403', 'https://s1.ljcdn.com/matrix_pc/dist/pc/src/resource/default/780-439.png?_v=20190411190841403', 'https://s1.ljcdn.com/matrix_pc/dist/pc/src/resource/default/780-439.png?_v=20190411190841403', 'https://s1.ljcdn.com/matrix_pc/dist/pc/src/resource/default/780-439.png?_v=20190411190841403', 'https://s1.ljcdn.com/matrix_pc/dist/pc/src/resource/default/780-439.png?_v=20190411190841403', 'https://s1.ljcdn.com/matrix_pc/dist/pc/src/resource/default/780-439.png?_v=20190411190841403', 'https://s1.ljcdn.com/matrix_pc/dist/pc/src/resource/default/780-439.png?_v=20190411190841403', 'https://ke-image.ljcdn.com/rent-user-avatar/70f8aa67-b354-4d99-8d0e-43f09a680760.780x439.jpg']\n",
      "3300\n",
      "['在线签约', '公寓', '近地铁', '精装', '押一付一', '随时看房']\n",
      "1室1厅1卫 65 北\n",
      "4000608675转1249\n"
     ]
    },
    {
     "name": "stderr",
     "output_type": "stream",
     "text": [
      "  0%|▏                                       | 12/3000 [00:14<52:33,  1.06s/it]"
     ]
    },
    {
     "name": "stdout",
     "output_type": "stream",
     "text": [
      "整租 远见名苑 1室0厅 5300元\n",
      "https://bj.zu.ke.com/zufang/BJ2202648182323167232.html 2019-03-01\n",
      "BJ2202648182323167232\n",
      "https://ke-image.ljcdn.com/ehr-personnel/201810251330483158H18KVIX.jpg\n",
      "无信息卡号。\n",
      "['https://ke-image.ljcdn.com/hdic-frame/1c2e9902-f4b7-45ab-99e8-2d7ac2695c9b.png.780x439.jpg', 'https://ke-image.ljcdn.com/110000-inspection/a3ffab79-43bf-43ec-ba32-450d8415fc2d.jpg.780x439.jpg', 'https://s1.ljcdn.com/matrix_pc/dist/pc/src/resource/default/780-439.png?_v=20190411190841403', 'https://s1.ljcdn.com/matrix_pc/dist/pc/src/resource/default/780-439.png?_v=20190411190841403', 'https://ke-image.ljcdn.com/110000-inspection/931158a5-9b76-4cd0-bdae-d5874f4e79f4.jpg.780x439.jpg']\n",
      "5300\n",
      "['近地铁', '精装', '随时看房']\n",
      "1室0厅1卫 47 东\n",
      "4000608669转8919\n"
     ]
    },
    {
     "name": "stderr",
     "output_type": "stream",
     "text": [
      "\r",
      "  0%|▏                                       | 13/3000 [00:16<58:10,  1.17s/it]"
     ]
    },
    {
     "name": "stdout",
     "output_type": "stream",
     "text": [
      "整租 三环新城6号院 2室1厅 8000元 复式\n",
      "https://bj.zu.ke.com/zufang/BJ2202913628917866496.html 2019-03-01\n",
      "BJ2202913628917866496\n",
      "https://ke-image.ljcdn.com/ehr-personnel/20180822162208940YPUIXQHW.jpg\n",
      "无信息卡号。\n",
      "['https://ke-image.ljcdn.com/110000-inspection/prod-2f86aaee-adf4-4547-b940-9f5c56273bc4.png.780x439.jpg', 'https://ke-image.ljcdn.com/110000-inspection/prod-87be9ff9-dd77-4b04-9295-b457b4a37f0f.jpg.780x439.jpg', 'https://s1.ljcdn.com/matrix_pc/dist/pc/src/resource/default/780-439.png?_v=20190411190841403', 'https://s1.ljcdn.com/matrix_pc/dist/pc/src/resource/default/780-439.png?_v=20190411190841403', 'https://s1.ljcdn.com/matrix_pc/dist/pc/src/resource/default/780-439.png?_v=20190411190841403', 'https://s1.ljcdn.com/matrix_pc/dist/pc/src/resource/default/780-439.png?_v=20190411190841403', 'https://s1.ljcdn.com/matrix_pc/dist/pc/src/resource/default/780-439.png?_v=20190411190841403', 'https://s1.ljcdn.com/matrix_pc/dist/pc/src/resource/default/780-439.png?_v=20190411190841403', 'https://s1.ljcdn.com/matrix_pc/dist/pc/src/resource/default/780-439.png?_v=20190411190841403', 'https://ke-image.ljcdn.com/110000-inspection/prod-d360c415-90e0-4197-8088-4b7480932134.jpg.780x439.jpg']\n",
      "8000\n",
      "['近地铁', '随时看房']\n",
      "2室1厅1卫 97 南 北\n",
      "4000608570转7490\n"
     ]
    },
    {
     "name": "stderr",
     "output_type": "stream",
     "text": [
      "\r",
      "  0%|▏                                     | 14/3000 [00:17<1:02:17,  1.25s/it]"
     ]
    },
    {
     "name": "stdout",
     "output_type": "stream",
     "text": [
      "整租 远洋新天地 1室1厅 LOFT\n",
      "https://bj.zu.ke.com/zufang/BJ2230153087371182080.html 2019-04-08\n",
      "BJ2230153087371182080\n",
      "https://ke-image.ljcdn.com/rent-user-avatar/1943d55f-b556-4020-b435-068198701172\n",
      "无信息卡号。\n",
      "['https://ke-image.ljcdn.com/rent-user-avatar/32dfb775-fb5d-4aa3-a428-8de253898386.780x439.jpg', 'https://ke-image.ljcdn.com/rent-user-avatar/3396bc52-6954-4a0e-938b-192cdd318ce2.780x439.jpg', 'https://s1.ljcdn.com/matrix_pc/dist/pc/src/resource/default/780-439.png?_v=20190411190841403', 'https://s1.ljcdn.com/matrix_pc/dist/pc/src/resource/default/780-439.png?_v=20190411190841403', 'https://s1.ljcdn.com/matrix_pc/dist/pc/src/resource/default/780-439.png?_v=20190411190841403', 'https://s1.ljcdn.com/matrix_pc/dist/pc/src/resource/default/780-439.png?_v=20190411190841403', 'https://s1.ljcdn.com/matrix_pc/dist/pc/src/resource/default/780-439.png?_v=20190411190841403', 'https://s1.ljcdn.com/matrix_pc/dist/pc/src/resource/default/780-439.png?_v=20190411190841403', 'https://s1.ljcdn.com/matrix_pc/dist/pc/src/resource/default/780-439.png?_v=20190411190841403', 'https://s1.ljcdn.com/matrix_pc/dist/pc/src/resource/default/780-439.png?_v=20190411190841403', 'https://s1.ljcdn.com/matrix_pc/dist/pc/src/resource/default/780-439.png?_v=20190411190841403', 'https://s1.ljcdn.com/matrix_pc/dist/pc/src/resource/default/780-439.png?_v=20190411190841403', 'https://s1.ljcdn.com/matrix_pc/dist/pc/src/resource/default/780-439.png?_v=20190411190841403', 'https://s1.ljcdn.com/matrix_pc/dist/pc/src/resource/default/780-439.png?_v=20190411190841403', 'https://s1.ljcdn.com/matrix_pc/dist/pc/src/resource/default/780-439.png?_v=20190411190841403', 'https://s1.ljcdn.com/matrix_pc/dist/pc/src/resource/default/780-439.png?_v=20190411190841403', 'https://s1.ljcdn.com/matrix_pc/dist/pc/src/resource/default/780-439.png?_v=20190411190841403', 'https://s1.ljcdn.com/matrix_pc/dist/pc/src/resource/default/780-439.png?_v=20190411190841403', 'https://s1.ljcdn.com/matrix_pc/dist/pc/src/resource/default/780-439.png?_v=20190411190841403', 'https://s1.ljcdn.com/matrix_pc/dist/pc/src/resource/default/780-439.png?_v=20190411190841403', 'https://s1.ljcdn.com/matrix_pc/dist/pc/src/resource/default/780-439.png?_v=20190411190841403', 'https://s1.ljcdn.com/matrix_pc/dist/pc/src/resource/default/780-439.png?_v=20190411190841403', 'https://ke-image.ljcdn.com/rent-user-avatar/fc64227b-9c15-428d-8bc5-e8779e64af2b.780x439.jpg']\n",
      "3100\n",
      "['在线签约', '公寓', '月租', '近地铁', '精装', '押一付一', '随时看房']\n",
      "1室1厅1卫 65 北\n",
      "4000608717转1846\n"
     ]
    },
    {
     "name": "stderr",
     "output_type": "stream",
     "text": [
      "  1%|▏                                       | 16/3000 [00:19<52:25,  1.05s/it]"
     ]
    },
    {
     "name": "stdout",
     "output_type": "stream",
     "text": [
      "整租 小南庄甲26号院 1室1厅 6500元\n",
      "https://bj.zu.ke.com/zufang/BJ2203586592495370240.html 2019-03-09\n",
      "BJ2203586592495370240\n",
      "https://ke-image.ljcdn.com/ehr-personnel/20180823101023417VGUCVE1M.jpg\n",
      "无信息卡号。\n",
      "['https://ke-image.ljcdn.com/110000-inspection/609655c8-bf2f-49f8-90bb-82c2d5e7963e.jpg.780x439.jpg', 'https://ke-image.ljcdn.com/hdic-frame/e6befef6-d723-418f-9b67-ed0e628dc8d6.png.780x439.jpg', 'https://s1.ljcdn.com/matrix_pc/dist/pc/src/resource/default/780-439.png?_v=20190411190841403', 'https://s1.ljcdn.com/matrix_pc/dist/pc/src/resource/default/780-439.png?_v=20190411190841403', 'https://s1.ljcdn.com/matrix_pc/dist/pc/src/resource/default/780-439.png?_v=20190411190841403', 'https://ke-image.ljcdn.com/110000-inspection/084d21da-1596-4bf4-aed6-1e1edf2039b2.jpg.780x439.jpg']\n",
      "6500\n",
      "['近地铁', '集中供暖', '随时看房']\n",
      "1室1厅1卫 42 南 北\n",
      "4000608263转2075\n"
     ]
    },
    {
     "name": "stderr",
     "output_type": "stream",
     "text": [
      "\r",
      "  1%|▏                                     | 17/3000 [00:21<1:00:51,  1.22s/it]"
     ]
    },
    {
     "name": "stdout",
     "output_type": "stream",
     "text": [
      "https://bj.zu.ke.com/zufang/BJ2204359618200092672.html 租赁方式未知 宣武门西大街 3室1厅 15500元\n",
      "https://bj.zu.ke.com/zufang/BJ2204359618200092672.html 2019-03-03\n",
      "BJ2204359618200092672\n",
      "https://ke-image.ljcdn.com/ehr-personnel/20190302154705794VYF8ZRRB.jpg\n",
      "无信息卡号。\n",
      "['https://ke-image.ljcdn.com/110000-inspection/cc9aae0b-e684-49e8-9563-f8cf3aef0810.jpg.780x439.jpg', 'https://ke-image.ljcdn.com/hdic-frame/bcb86323-5ed2-466a-8df8-c9fdbdb3157c.png.780x439.jpg', 'https://s1.ljcdn.com/matrix_pc/dist/pc/src/resource/default/780-439.png?_v=20190411190841403', 'https://s1.ljcdn.com/matrix_pc/dist/pc/src/resource/default/780-439.png?_v=20190411190841403', 'https://s1.ljcdn.com/matrix_pc/dist/pc/src/resource/default/780-439.png?_v=20190411190841403', 'https://s1.ljcdn.com/matrix_pc/dist/pc/src/resource/default/780-439.png?_v=20190411190841403', 'https://s1.ljcdn.com/matrix_pc/dist/pc/src/resource/default/780-439.png?_v=20190411190841403', 'https://s1.ljcdn.com/matrix_pc/dist/pc/src/resource/default/780-439.png?_v=20190411190841403', 'https://ke-image.ljcdn.com/110000-inspection/c93eb927-139c-4a6f-9050-d2d8d28e7bfe.jpg.780x439.jpg']\n",
      "15500\n",
      "['近地铁', '集中供暖', '随时看房']\n",
      "3室1厅1卫 89 西南\n",
      "4000608640转1933\n"
     ]
    },
    {
     "name": "stderr",
     "output_type": "stream",
     "text": [
      "\r",
      "  1%|▏                                     | 18/3000 [00:23<1:11:22,  1.44s/it]"
     ]
    },
    {
     "name": "stdout",
     "output_type": "stream",
     "text": [
      "整租 益明园 1室0厅 4600元\n",
      "https://bj.zu.ke.com/zufang/BJ2204763830104629248.html 2019-04-06\n",
      "BJ2204763830104629248\n",
      "https://ke-image.ljcdn.com/ehr-personnel/20180823143753233FZFM88KK.jpg\n",
      "无信息卡号。\n",
      "['https://ke-image.ljcdn.com/hdic-frame/4ab351b6-9c53-4db1-8edd-4148f5ea17f9.png.780x439.jpg', 'https://ke-image.ljcdn.com/110000-inspection/12194fb4-4a59-4fd3-a4ae-a95b6ffd9c67.jpg.780x439.jpg', 'https://s1.ljcdn.com/matrix_pc/dist/pc/src/resource/default/780-439.png?_v=20190411190841403', 'https://s1.ljcdn.com/matrix_pc/dist/pc/src/resource/default/780-439.png?_v=20190411190841403', 'https://s1.ljcdn.com/matrix_pc/dist/pc/src/resource/default/780-439.png?_v=20190411190841403', 'https://ke-image.ljcdn.com/110000-inspection/bca76b8a-9d22-4a2c-ae30-d72933392a7c.jpg.780x439.jpg']\n",
      "4600\n",
      "['近地铁', '精装', '随时看房']\n",
      "1室0厅1卫 43 南\n",
      "4000608675转6963\n"
     ]
    },
    {
     "name": "stderr",
     "output_type": "stream",
     "text": [
      "\r",
      "  1%|▏                                     | 19/3000 [00:24<1:05:43,  1.32s/it]"
     ]
    },
    {
     "name": "stdout",
     "output_type": "stream",
     "text": [
      "整租 西长安壹号 1室1厅 LOFT\n",
      "https://bj.zu.ke.com/zufang/BJ2230237956621475840.html 2019-04-08\n",
      "BJ2230237956621475840\n",
      "https://ke-image.ljcdn.com/rent-user-avatar/1943d55f-b556-4020-b435-068198701172\n",
      "无信息卡号。\n",
      "['https://ke-image.ljcdn.com/rent-user-avatar/30ace8cf-f5c3-4d46-b85b-3b776f41f36b.780x439.jpg', 'https://ke-image.ljcdn.com/rent-user-avatar/46b5d16e-3ff0-4816-9177-f3e1ff1af753.780x439.jpg', 'https://s1.ljcdn.com/matrix_pc/dist/pc/src/resource/default/780-439.png?_v=20190411190841403', 'https://s1.ljcdn.com/matrix_pc/dist/pc/src/resource/default/780-439.png?_v=20190411190841403', 'https://s1.ljcdn.com/matrix_pc/dist/pc/src/resource/default/780-439.png?_v=20190411190841403', 'https://s1.ljcdn.com/matrix_pc/dist/pc/src/resource/default/780-439.png?_v=20190411190841403', 'https://s1.ljcdn.com/matrix_pc/dist/pc/src/resource/default/780-439.png?_v=20190411190841403', 'https://s1.ljcdn.com/matrix_pc/dist/pc/src/resource/default/780-439.png?_v=20190411190841403', 'https://s1.ljcdn.com/matrix_pc/dist/pc/src/resource/default/780-439.png?_v=20190411190841403', 'https://s1.ljcdn.com/matrix_pc/dist/pc/src/resource/default/780-439.png?_v=20190411190841403', 'https://s1.ljcdn.com/matrix_pc/dist/pc/src/resource/default/780-439.png?_v=20190411190841403', 'https://s1.ljcdn.com/matrix_pc/dist/pc/src/resource/default/780-439.png?_v=20190411190841403', 'https://s1.ljcdn.com/matrix_pc/dist/pc/src/resource/default/780-439.png?_v=20190411190841403', 'https://s1.ljcdn.com/matrix_pc/dist/pc/src/resource/default/780-439.png?_v=20190411190841403', 'https://s1.ljcdn.com/matrix_pc/dist/pc/src/resource/default/780-439.png?_v=20190411190841403', 'https://s1.ljcdn.com/matrix_pc/dist/pc/src/resource/default/780-439.png?_v=20190411190841403', 'https://s1.ljcdn.com/matrix_pc/dist/pc/src/resource/default/780-439.png?_v=20190411190841403', 'https://s1.ljcdn.com/matrix_pc/dist/pc/src/resource/default/780-439.png?_v=20190411190841403', 'https://s1.ljcdn.com/matrix_pc/dist/pc/src/resource/default/780-439.png?_v=20190411190841403', 'https://s1.ljcdn.com/matrix_pc/dist/pc/src/resource/default/780-439.png?_v=20190411190841403', 'https://s1.ljcdn.com/matrix_pc/dist/pc/src/resource/default/780-439.png?_v=20190411190841403', 'https://s1.ljcdn.com/matrix_pc/dist/pc/src/resource/default/780-439.png?_v=20190411190841403', 'https://ke-image.ljcdn.com/rent-user-avatar/9856268e-91f0-4554-affb-03c8eb12e62f.780x439.jpg']\n",
      "3300\n",
      "['在线签约', '公寓', '月租', '近地铁', '精装', '押一付一', '随时看房']\n",
      "1室1厅1卫 60 东\n",
      "4000608697转9151\n"
     ]
    },
    {
     "name": "stderr",
     "output_type": "stream",
     "text": [
      "  1%|▎                                       | 21/3000 [00:25<50:34,  1.02s/it]"
     ]
    },
    {
     "name": "stdout",
     "output_type": "stream",
     "text": [
      "整租 永安东里 2室1厅 7000元\n",
      "https://bj.zu.ke.com/zufang/BJ2205563724814106624.html 2019-03-05\n",
      "BJ2205563724814106624\n",
      "https://ke-image.ljcdn.com/ehr-personnel/2018082214262657425BQSJ7W.jpg\n",
      "无信息卡号。\n",
      "['https://ke-image.ljcdn.com/110000-inspection/2c6d722d-2c84-43cd-a9c1-db5e80bd9307.JPG.780x439.jpg', 'https://ke-image.ljcdn.com/110000-inspection/df2e07ec-641e-4897-bbae-cc2bbb342cf5.JPG.780x439.jpg', 'https://s1.ljcdn.com/matrix_pc/dist/pc/src/resource/default/780-439.png?_v=20190411190841403', 'https://s1.ljcdn.com/matrix_pc/dist/pc/src/resource/default/780-439.png?_v=20190411190841403', 'https://s1.ljcdn.com/matrix_pc/dist/pc/src/resource/default/780-439.png?_v=20190411190841403', 'https://s1.ljcdn.com/matrix_pc/dist/pc/src/resource/default/780-439.png?_v=20190411190841403', 'https://s1.ljcdn.com/matrix_pc/dist/pc/src/resource/default/780-439.png?_v=20190411190841403', 'https://s1.ljcdn.com/matrix_pc/dist/pc/src/resource/default/780-439.png?_v=20190411190841403', 'https://ke-image.ljcdn.com/110000-inspection/9ddb5c4f-faca-4daf-b621-cc4f2acf7f55.JPG.780x439.jpg']\n",
      "7000\n",
      "['近地铁', '集中供暖', '随时看房']\n",
      "2室1厅1卫 71 南 北\n",
      "4000608552转5458\n"
     ]
    },
    {
     "name": "stderr",
     "output_type": "stream",
     "text": [
      "\r",
      "  1%|▎                                     | 22/3000 [00:27<1:05:19,  1.32s/it]"
     ]
    },
    {
     "name": "stdout",
     "output_type": "stream",
     "text": [
      "整租 纯南向的一居室，保持干净，二层，出行方便\n",
      "https://bj.zu.ke.com/zufang/BJ2205604537807675392.html 2019-03-05\n",
      "BJ2205604537807675392\n",
      "https://ke-image.ljcdn.com/ehr-personnel/20180822104533733PTF4M4QO.jpg\n",
      "无信息卡号。\n",
      "['https://ke-image.ljcdn.com/hdic-frame/fb2cffa5-a2f5-4dd8-9c88-21b77d144912.png.780x439.jpg', 'https://ke-image.ljcdn.com/110000-inspection/38006d4d-de23-4d9c-a0ba-56a02625203f.JPG.780x439.jpg', 'https://s1.ljcdn.com/matrix_pc/dist/pc/src/resource/default/780-439.png?_v=20190411190841403', 'https://s1.ljcdn.com/matrix_pc/dist/pc/src/resource/default/780-439.png?_v=20190411190841403', 'https://ke-image.ljcdn.com/110000-inspection/b66442a7-ed1f-4eab-8d60-ecdf9bce3518.JPG.780x439.jpg']\n",
      "3500\n",
      "['近地铁', '集中供暖', '随时看房']\n",
      "1室0厅1卫 43 南\n",
      "4000608677转4625\n"
     ]
    },
    {
     "name": "stderr",
     "output_type": "stream",
     "text": [
      "\r",
      "  1%|▎                                     | 23/3000 [00:29<1:08:09,  1.37s/it]"
     ]
    },
    {
     "name": "stdout",
     "output_type": "stream",
     "text": [
      "整租 远洋新天地 1室1厅 LOFT\n",
      "https://bj.zu.ke.com/zufang/BJ2230873936680189952.html 2019-04-09\n",
      "BJ2230873936680189952\n",
      "https://ke-image.ljcdn.com/rent-user-avatar/1943d55f-b556-4020-b435-068198701172\n",
      "无信息卡号。\n",
      "['https://ke-image.ljcdn.com/rent-user-avatar/31b60664-5f6e-4426-89a3-a21cf87ba196.780x439.jpg', 'https://ke-image.ljcdn.com/rent-user-avatar/8a7fadb8-0126-4ed4-b421-a07b295488c8.780x439.jpg', 'https://s1.ljcdn.com/matrix_pc/dist/pc/src/resource/default/780-439.png?_v=20190411190841403', 'https://s1.ljcdn.com/matrix_pc/dist/pc/src/resource/default/780-439.png?_v=20190411190841403', 'https://s1.ljcdn.com/matrix_pc/dist/pc/src/resource/default/780-439.png?_v=20190411190841403', 'https://s1.ljcdn.com/matrix_pc/dist/pc/src/resource/default/780-439.png?_v=20190411190841403', 'https://s1.ljcdn.com/matrix_pc/dist/pc/src/resource/default/780-439.png?_v=20190411190841403', 'https://s1.ljcdn.com/matrix_pc/dist/pc/src/resource/default/780-439.png?_v=20190411190841403', 'https://s1.ljcdn.com/matrix_pc/dist/pc/src/resource/default/780-439.png?_v=20190411190841403', 'https://s1.ljcdn.com/matrix_pc/dist/pc/src/resource/default/780-439.png?_v=20190411190841403', 'https://s1.ljcdn.com/matrix_pc/dist/pc/src/resource/default/780-439.png?_v=20190411190841403', 'https://s1.ljcdn.com/matrix_pc/dist/pc/src/resource/default/780-439.png?_v=20190411190841403', 'https://s1.ljcdn.com/matrix_pc/dist/pc/src/resource/default/780-439.png?_v=20190411190841403', 'https://s1.ljcdn.com/matrix_pc/dist/pc/src/resource/default/780-439.png?_v=20190411190841403', 'https://s1.ljcdn.com/matrix_pc/dist/pc/src/resource/default/780-439.png?_v=20190411190841403', 'https://s1.ljcdn.com/matrix_pc/dist/pc/src/resource/default/780-439.png?_v=20190411190841403', 'https://s1.ljcdn.com/matrix_pc/dist/pc/src/resource/default/780-439.png?_v=20190411190841403', 'https://s1.ljcdn.com/matrix_pc/dist/pc/src/resource/default/780-439.png?_v=20190411190841403', 'https://s1.ljcdn.com/matrix_pc/dist/pc/src/resource/default/780-439.png?_v=20190411190841403', 'https://s1.ljcdn.com/matrix_pc/dist/pc/src/resource/default/780-439.png?_v=20190411190841403', 'https://s1.ljcdn.com/matrix_pc/dist/pc/src/resource/default/780-439.png?_v=20190411190841403', 'https://s1.ljcdn.com/matrix_pc/dist/pc/src/resource/default/780-439.png?_v=20190411190841403', 'https://ke-image.ljcdn.com/rent-user-avatar/c5139b13-8aee-4131-a200-6d4f2efc44a6.780x439.jpg']\n",
      "3300\n",
      "['在线签约', '公寓', '月租', '近地铁', '精装', '押一付一', '新上', '随时看房']\n",
      "1室1厅1卫 65  北\n",
      "4000608697转3546\n"
     ]
    },
    {
     "name": "stderr",
     "output_type": "stream",
     "text": [
      "  1%|▎                                     | 25/3000 [00:31<1:06:36,  1.34s/it]"
     ]
    },
    {
     "name": "stdout",
     "output_type": "stream",
     "text": [
      "整租 新城国际，三期loft户型，精装修 复式\n",
      "https://bj.zu.ke.com/zufang/BJ2206302040790417408.html 2019-03-08\n",
      "BJ2206302040790417408\n",
      "https://ke-image.ljcdn.com/ehr-personnel/201808221902260018EM3HJMD.jpg\n",
      "无信息卡号。\n",
      "['https://ke-image.ljcdn.com/110000-inspection/d0ddb0a7-d655-485e-b06a-66a2b3cf4119.jpg.780x439.jpg', 'https://ke-image.ljcdn.com/110000-inspection/edd27274-00a3-425e-b607-ca76a00a3b30.jpg.780x439.jpg', 'https://s1.ljcdn.com/matrix_pc/dist/pc/src/resource/default/780-439.png?_v=20190411190841403', 'https://s1.ljcdn.com/matrix_pc/dist/pc/src/resource/default/780-439.png?_v=20190411190841403', 'https://s1.ljcdn.com/matrix_pc/dist/pc/src/resource/default/780-439.png?_v=20190411190841403', 'https://s1.ljcdn.com/matrix_pc/dist/pc/src/resource/default/780-439.png?_v=20190411190841403', 'https://s1.ljcdn.com/matrix_pc/dist/pc/src/resource/default/780-439.png?_v=20190411190841403', 'https://ke-image.ljcdn.com/110000-inspection/c3a2891d-1834-4cc9-903f-a885170b8c76.jpg.780x439.jpg']\n",
      "27000\n",
      "['近地铁', '精装', '集中供暖', '双卫生间', '随时看房']\n",
      "1室1厅2卫 137 东北\n",
      "4000608689转5258\n"
     ]
    },
    {
     "name": "stderr",
     "output_type": "stream",
     "text": [
      "\r",
      "  1%|▎                                     | 26/3000 [00:33<1:08:46,  1.39s/it]"
     ]
    },
    {
     "name": "stdout",
     "output_type": "stream",
     "text": [
      "整租 乐成国际 开间 家具齐全 装修温馨 随时看房拎包入住\n",
      "https://bj.zu.ke.com/zufang/BJ2206315816469929984.html 2019-03-26\n",
      "BJ2206315816469929984\n",
      "https://ke-image.ljcdn.com/ehr-personnel/201808230929070240GOITKYK.jpg\n",
      "无信息卡号。\n",
      "['https://ke-image.ljcdn.com/hdic-frame/6e4ebad5-dfc2-43d4-b7f3-267e00c2ca19.png.780x439.jpg', 'https://ke-image.ljcdn.com/110000-inspection/5f64f647-c1f4-4ae0-9247-aff53e36154c.jpg.780x439.jpg', 'https://s1.ljcdn.com/matrix_pc/dist/pc/src/resource/default/780-439.png?_v=20190411190841403', 'https://s1.ljcdn.com/matrix_pc/dist/pc/src/resource/default/780-439.png?_v=20190411190841403', 'https://ke-image.ljcdn.com/110000-inspection/21db66b1-0244-41eb-9196-79870bdf4dc4.jpg.780x439.jpg']\n",
      "8500\n",
      "['近地铁', '精装', '集中供暖', '随时看房']\n",
      "1室0厅1卫 62 东\n",
      "4000608255转6497\n"
     ]
    },
    {
     "name": "stderr",
     "output_type": "stream",
     "text": [
      "\r",
      "  1%|▎                                     | 27/3000 [00:34<1:07:43,  1.37s/it]"
     ]
    },
    {
     "name": "stdout",
     "output_type": "stream",
     "text": [
      "https://bj.zu.ke.com/zufang/BJ2206407280465805312.html 租赁方式未知 铁二区 1室1厅 6700元\n",
      "https://bj.zu.ke.com/zufang/BJ2206407280465805312.html 2019-03-06\n",
      "BJ2206407280465805312\n",
      "https://ke-image.ljcdn.com/ehr-personnel/20180921191524534M6DZUMN9.jpg\n",
      "无信息卡号。\n",
      "['https://ke-image.ljcdn.com/110000-inspection/test-215a6849-6b6a-448c-a1fb-0449d1c81d04.png.780x439.jpg', 'https://ke-image.ljcdn.com/110000-inspection/test-8c8d854a-3196-442b-be08-4f27afc9a16d.png.780x439.jpg', 'https://s1.ljcdn.com/matrix_pc/dist/pc/src/resource/default/780-439.png?_v=20190411190841403', 'https://s1.ljcdn.com/matrix_pc/dist/pc/src/resource/default/780-439.png?_v=20190411190841403', 'https://s1.ljcdn.com/matrix_pc/dist/pc/src/resource/default/780-439.png?_v=20190411190841403', 'https://s1.ljcdn.com/matrix_pc/dist/pc/src/resource/default/780-439.png?_v=20190411190841403', 'https://ke-image.ljcdn.com/110000-inspection/test-cd4317c6-30dc-41f9-ab58-6acf7a990c09.png.780x439.jpg']\n",
      "6700\n",
      "['近地铁', '集中供暖', '随时看房']\n",
      "1室1厅1卫 44 南\n",
      "4000608674转5093\n"
     ]
    },
    {
     "name": "stderr",
     "output_type": "stream",
     "text": [
      "\r",
      "  1%|▎                                     | 28/3000 [00:40<2:09:11,  2.61s/it]"
     ]
    },
    {
     "name": "stdout",
     "output_type": "stream",
     "text": [
      "整租 远洋新天地 1室1厅 复式\n",
      "https://bj.zu.ke.com/zufang/BJ2234912615820165120.html 2019-04-14\n",
      "BJ2234912615820165120\n",
      "https://ke-image.ljcdn.com/rent-user-avatar/1943d55f-b556-4020-b435-068198701172\n",
      "无信息卡号。\n",
      "['https://ke-image.ljcdn.com/rent-user-avatar/11e1b49e-16f6-4c66-98be-53d4645c12a6.780x439.jpg', 'https://ke-image.ljcdn.com/rent-user-avatar/223c29d6-1ff1-411d-b710-4a6c1b23df17.780x439.jpg', 'https://s1.ljcdn.com/matrix_pc/dist/pc/src/resource/default/780-439.png?_v=20190411190841403', 'https://s1.ljcdn.com/matrix_pc/dist/pc/src/resource/default/780-439.png?_v=20190411190841403', 'https://s1.ljcdn.com/matrix_pc/dist/pc/src/resource/default/780-439.png?_v=20190411190841403', 'https://s1.ljcdn.com/matrix_pc/dist/pc/src/resource/default/780-439.png?_v=20190411190841403', 'https://s1.ljcdn.com/matrix_pc/dist/pc/src/resource/default/780-439.png?_v=20190411190841403', 'https://s1.ljcdn.com/matrix_pc/dist/pc/src/resource/default/780-439.png?_v=20190411190841403', 'https://s1.ljcdn.com/matrix_pc/dist/pc/src/resource/default/780-439.png?_v=20190411190841403', 'https://s1.ljcdn.com/matrix_pc/dist/pc/src/resource/default/780-439.png?_v=20190411190841403', 'https://s1.ljcdn.com/matrix_pc/dist/pc/src/resource/default/780-439.png?_v=20190411190841403', 'https://s1.ljcdn.com/matrix_pc/dist/pc/src/resource/default/780-439.png?_v=20190411190841403', 'https://s1.ljcdn.com/matrix_pc/dist/pc/src/resource/default/780-439.png?_v=20190411190841403', 'https://s1.ljcdn.com/matrix_pc/dist/pc/src/resource/default/780-439.png?_v=20190411190841403', 'https://s1.ljcdn.com/matrix_pc/dist/pc/src/resource/default/780-439.png?_v=20190411190841403', 'https://s1.ljcdn.com/matrix_pc/dist/pc/src/resource/default/780-439.png?_v=20190411190841403', 'https://s1.ljcdn.com/matrix_pc/dist/pc/src/resource/default/780-439.png?_v=20190411190841403', 'https://s1.ljcdn.com/matrix_pc/dist/pc/src/resource/default/780-439.png?_v=20190411190841403', 'https://s1.ljcdn.com/matrix_pc/dist/pc/src/resource/default/780-439.png?_v=20190411190841403', 'https://s1.ljcdn.com/matrix_pc/dist/pc/src/resource/default/780-439.png?_v=20190411190841403', 'https://s1.ljcdn.com/matrix_pc/dist/pc/src/resource/default/780-439.png?_v=20190411190841403', 'https://s1.ljcdn.com/matrix_pc/dist/pc/src/resource/default/780-439.png?_v=20190411190841403', 'https://s1.ljcdn.com/matrix_pc/dist/pc/src/resource/default/780-439.png?_v=20190411190841403', 'https://s1.ljcdn.com/matrix_pc/dist/pc/src/resource/default/780-439.png?_v=20190411190841403', 'https://s1.ljcdn.com/matrix_pc/dist/pc/src/resource/default/780-439.png?_v=20190411190841403', 'https://s1.ljcdn.com/matrix_pc/dist/pc/src/resource/default/780-439.png?_v=20190411190841403', 'https://s1.ljcdn.com/matrix_pc/dist/pc/src/resource/default/780-439.png?_v=20190411190841403', 'https://ke-image.ljcdn.com/rent-user-avatar/18a9b679-af2b-4466-a6a9-942b760ac3f0.780x439.jpg']\n",
      "3300\n",
      "['在线签约', '公寓', '月租', '近地铁', '精装', '押一付一', '新上', '随时看房']\n",
      "1室1厅1卫 65 北\n",
      "4000608725转3851\n"
     ]
    },
    {
     "name": "stderr",
     "output_type": "stream",
     "text": [
      "  1%|▍                                     | 30/3000 [00:41<1:22:21,  1.66s/it]"
     ]
    },
    {
     "name": "stdout",
     "output_type": "stream",
     "text": [
      "整租 远洋新天地 1室1厅 复式\n",
      "https://bj.zu.ke.com/zufang/BJ2218047884468174848.html 2019-03-22\n",
      "BJ2218047884468174848\n",
      "https://ke-image.ljcdn.com/rent-user-avatar/1943d55f-b556-4020-b435-068198701172\n",
      "无信息卡号。\n",
      "['https://ke-image.ljcdn.com/rent-user-avatar/0f1e1329-fa36-47a6-8ab6-98d8c9bc8d88.780x439.jpg', 'https://ke-image.ljcdn.com/rent-user-avatar/424197ad-430d-4828-aa6a-ccee18b2691e.780x439.jpg', 'https://s1.ljcdn.com/matrix_pc/dist/pc/src/resource/default/780-439.png?_v=20190411190841403', 'https://s1.ljcdn.com/matrix_pc/dist/pc/src/resource/default/780-439.png?_v=20190411190841403', 'https://s1.ljcdn.com/matrix_pc/dist/pc/src/resource/default/780-439.png?_v=20190411190841403', 'https://s1.ljcdn.com/matrix_pc/dist/pc/src/resource/default/780-439.png?_v=20190411190841403', 'https://s1.ljcdn.com/matrix_pc/dist/pc/src/resource/default/780-439.png?_v=20190411190841403', 'https://s1.ljcdn.com/matrix_pc/dist/pc/src/resource/default/780-439.png?_v=20190411190841403', 'https://s1.ljcdn.com/matrix_pc/dist/pc/src/resource/default/780-439.png?_v=20190411190841403', 'https://s1.ljcdn.com/matrix_pc/dist/pc/src/resource/default/780-439.png?_v=20190411190841403', 'https://s1.ljcdn.com/matrix_pc/dist/pc/src/resource/default/780-439.png?_v=20190411190841403', 'https://s1.ljcdn.com/matrix_pc/dist/pc/src/resource/default/780-439.png?_v=20190411190841403', 'https://s1.ljcdn.com/matrix_pc/dist/pc/src/resource/default/780-439.png?_v=20190411190841403', 'https://s1.ljcdn.com/matrix_pc/dist/pc/src/resource/default/780-439.png?_v=20190411190841403', 'https://s1.ljcdn.com/matrix_pc/dist/pc/src/resource/default/780-439.png?_v=20190411190841403', 'https://s1.ljcdn.com/matrix_pc/dist/pc/src/resource/default/780-439.png?_v=20190411190841403', 'https://s1.ljcdn.com/matrix_pc/dist/pc/src/resource/default/780-439.png?_v=20190411190841403', 'https://s1.ljcdn.com/matrix_pc/dist/pc/src/resource/default/780-439.png?_v=20190411190841403', 'https://s1.ljcdn.com/matrix_pc/dist/pc/src/resource/default/780-439.png?_v=20190411190841403', 'https://ke-image.ljcdn.com/rent-user-avatar/1947a29b-84e1-4a20-bb5e-30f00f73a7df.780x439.jpg']\n",
      "3300\n",
      "['在线签约', '公寓', '月租', '近地铁', '精装', '押一付一', '随时看房']\n",
      "1室1厅1卫 65 北\n",
      "4000608659转1546\n"
     ]
    },
    {
     "name": "stderr",
     "output_type": "stream",
     "text": [
      "  1%|▍                                     | 32/3000 [00:44<1:08:58,  1.39s/it]"
     ]
    },
    {
     "name": "stdout",
     "output_type": "stream",
     "text": [
      "整租 简单装修，为你而选，为你为家。。\n",
      "https://bj.zu.ke.com/zufang/BJ2207129905241014272.html 2019-04-07\n",
      "BJ2207129905241014272\n",
      "https://ke-image.ljcdn.com/ehr-personnel/20180824152958098R71LET75.jpg\n",
      "无信息卡号。\n",
      "['https://ke-image.ljcdn.com/110000-inspection/a7c8f6c5-9a68-4845-bd35-d3d21c1cb64b.jpg.780x439.jpg', 'https://ke-image.ljcdn.com/hdic-frame/8d1c6eea-2bfc-4377-b889-d73cb7af925f.png.780x439.jpg', 'https://s1.ljcdn.com/matrix_pc/dist/pc/src/resource/default/780-439.png?_v=20190411190841403', 'https://s1.ljcdn.com/matrix_pc/dist/pc/src/resource/default/780-439.png?_v=20190411190841403', 'https://s1.ljcdn.com/matrix_pc/dist/pc/src/resource/default/780-439.png?_v=20190411190841403', 'https://ke-image.ljcdn.com/110000-inspection/a9224067-15c2-4c3c-b553-59f63ccda8d4.jpg.780x439.jpg']\n",
      "5000\n",
      "['近地铁', '精装', '集中供暖', '随时看房']\n",
      "1室1厅1卫 44 南\n",
      "4000608247转1759\n"
     ]
    },
    {
     "name": "stderr",
     "output_type": "stream",
     "text": [
      "\r",
      "  1%|▍                                     | 33/3000 [00:45<1:08:14,  1.38s/it]"
     ]
    },
    {
     "name": "stdout",
     "output_type": "stream",
     "text": [
      "https://bj.zu.ke.com/zufang/BJ2207199374390599680.html 租赁方式未知 门楼巷 3室1厅 7500元\n",
      "https://bj.zu.ke.com/zufang/BJ2207199374390599680.html 2019-03-07\n",
      "BJ2207199374390599680\n",
      "https://ke-image.ljcdn.com/ehr-personnel/20180822115442303C97JDOSM.jpg\n",
      "无信息卡号。\n",
      "['https://ke-image.ljcdn.com/110000-inspection/prod-5b9a1ad4-aeea-4603-93b2-494c7df0fed1.jpg.780x439.jpg', 'https://ke-image.ljcdn.com/hdic-frame/prod-6d44f53e-0abd-48df-bc52-a6353bc99de0.png.780x439.jpg', 'https://s1.ljcdn.com/matrix_pc/dist/pc/src/resource/default/780-439.png?_v=20190411190841403', 'https://s1.ljcdn.com/matrix_pc/dist/pc/src/resource/default/780-439.png?_v=20190411190841403', 'https://s1.ljcdn.com/matrix_pc/dist/pc/src/resource/default/780-439.png?_v=20190411190841403', 'https://s1.ljcdn.com/matrix_pc/dist/pc/src/resource/default/780-439.png?_v=20190411190841403', 'https://s1.ljcdn.com/matrix_pc/dist/pc/src/resource/default/780-439.png?_v=20190411190841403', 'https://ke-image.ljcdn.com/110000-inspection/prod-fa59d968-b903-445d-96ab-c2b56dc442b3.jpg.780x439.jpg']\n",
      "7500\n",
      "['近地铁', '集中供暖', '随时看房']\n",
      "3室1厅1卫 71 南\n",
      "4000608740转8460\n"
     ]
    },
    {
     "name": "stderr",
     "output_type": "stream",
     "text": [
      "\r",
      "  1%|▍                                     | 34/3000 [00:46<1:07:21,  1.36s/it]"
     ]
    },
    {
     "name": "stdout",
     "output_type": "stream",
     "text": [
      "整租 贾家花园小区 2室1厅 4800元\n",
      "https://bj.zu.ke.com/zufang/BJ2207810463671263232.html 2019-03-08\n",
      "BJ2207810463671263232\n",
      "https://ke-image.ljcdn.com/ehr-personnel/20180823172229680GUXL3ZCD.jpg\n",
      "无信息卡号。\n",
      "['https://ke-image.ljcdn.com/110000-inspection/89029e88-d965-4fb2-b310-bf07892f1ece.JPG.780x439.jpg', 'https://ke-image.ljcdn.com/hdic-frame/80c4fc6d-3bcd-408e-b151-da73da9bdf51.png.780x439.jpg', 'https://s1.ljcdn.com/matrix_pc/dist/pc/src/resource/default/780-439.png?_v=20190411190841403', 'https://s1.ljcdn.com/matrix_pc/dist/pc/src/resource/default/780-439.png?_v=20190411190841403', 'https://s1.ljcdn.com/matrix_pc/dist/pc/src/resource/default/780-439.png?_v=20190411190841403', 'https://s1.ljcdn.com/matrix_pc/dist/pc/src/resource/default/780-439.png?_v=20190411190841403', 'https://ke-image.ljcdn.com/110000-inspection/3eed7d0f-ef25-41d4-83d3-a217cf34401f.JPG.780x439.jpg']\n",
      "4800\n",
      "['近地铁', '集中供暖', '随时看房']\n",
      "2室1厅1卫 65 南 北\n",
      "4000608589转5366\n"
     ]
    },
    {
     "name": "stderr",
     "output_type": "stream",
     "text": [
      "\r",
      "  1%|▍                                     | 35/3000 [00:48<1:15:19,  1.52s/it]"
     ]
    },
    {
     "name": "stdout",
     "output_type": "stream",
     "text": [
      "整租 南太平庄北巷 3室1厅\n",
      "https://bj.zu.ke.com/zufang/BJ2218145236847706112.html 2019-03-22\n",
      "BJ2218145236847706112\n",
      "https://ke-image.ljcdn.com/rent-user-avatar/849f9a65-a4ca-484b-9e51-7f8677fa46c0\n",
      "无信息卡号。\n",
      "['https://ke-image.ljcdn.com/rent-user-avatar/0c4de266-bcd1-48b8-94ef-e768eaef433d.780x439.jpg', 'https://ke-image.ljcdn.com/rent-user-avatar/6c1452d2-63c5-4dae-908a-bf4f902b71ef.780x439.jpg', 'https://s1.ljcdn.com/matrix_pc/dist/pc/src/resource/default/780-439.png?_v=20190411190841403', 'https://s1.ljcdn.com/matrix_pc/dist/pc/src/resource/default/780-439.png?_v=20190411190841403', 'https://s1.ljcdn.com/matrix_pc/dist/pc/src/resource/default/780-439.png?_v=20190411190841403', 'https://s1.ljcdn.com/matrix_pc/dist/pc/src/resource/default/780-439.png?_v=20190411190841403', 'https://s1.ljcdn.com/matrix_pc/dist/pc/src/resource/default/780-439.png?_v=20190411190841403', 'https://s1.ljcdn.com/matrix_pc/dist/pc/src/resource/default/780-439.png?_v=20190411190841403', 'https://s1.ljcdn.com/matrix_pc/dist/pc/src/resource/default/780-439.png?_v=20190411190841403', 'https://s1.ljcdn.com/matrix_pc/dist/pc/src/resource/default/780-439.png?_v=20190411190841403', 'https://s1.ljcdn.com/matrix_pc/dist/pc/src/resource/default/780-439.png?_v=20190411190841403', 'https://ke-image.ljcdn.com/rent-user-avatar/126c5807-a87d-47bb-8545-10b6ebef9efc.780x439.jpg']\n",
      "7500\n",
      "['在线签约', '公寓', '近地铁', '精装', '双卫生间', '随时看房']\n",
      "3室1厅2卫 105 南 北\n",
      "4000608661转6502\n"
     ]
    },
    {
     "name": "stderr",
     "output_type": "stream",
     "text": [
      "  1%|▍                                       | 37/3000 [00:50<57:45,  1.17s/it]"
     ]
    },
    {
     "name": "stdout",
     "output_type": "stream",
     "text": [
      "https://bj.zu.ke.com/zufang/BJ2208425226113654784.html 租赁方式未知 香河园街 2室1厅 8000元\n",
      "https://bj.zu.ke.com/zufang/BJ2208425226113654784.html 2019-03-09\n",
      "BJ2208425226113654784\n",
      "https://ke-image.ljcdn.com/ehr-personnel/20180822111737249HGNC3KEG.jpg\n",
      "无信息卡号。\n",
      "['https://ke-image.ljcdn.com/110000-inspection/ddd769c9-d33b-49a5-933a-33b23e0991b5.jpg.780x439.jpg', 'https://ke-image.ljcdn.com/hdic-frame/6e3b716c-1c38-4a99-8b27-77827fbf6275.png.780x439.jpg', 'https://s1.ljcdn.com/matrix_pc/dist/pc/src/resource/default/780-439.png?_v=20190411190841403', 'https://s1.ljcdn.com/matrix_pc/dist/pc/src/resource/default/780-439.png?_v=20190411190841403', 'https://s1.ljcdn.com/matrix_pc/dist/pc/src/resource/default/780-439.png?_v=20190411190841403', 'https://s1.ljcdn.com/matrix_pc/dist/pc/src/resource/default/780-439.png?_v=20190411190841403', 'https://ke-image.ljcdn.com/110000-inspection/f52222f6-5769-4845-af73-67b9731129bd.jpg.780x439.jpg']\n",
      "8000\n",
      "['近地铁', '集中供暖', '随时看房']\n",
      "2室1厅1卫 58 东 南\n",
      "4000608684转7475\n"
     ]
    },
    {
     "name": "stderr",
     "output_type": "stream",
     "text": [
      "\r",
      "  1%|▍                                     | 38/3000 [00:52<1:04:45,  1.31s/it]"
     ]
    },
    {
     "name": "stdout",
     "output_type": "stream",
     "text": [
      "https://bj.zu.ke.com/zufang/BJ2208472598722125824.html 租赁方式未知 居家精装修 南北双通透 一直自住 采光好\n",
      "https://bj.zu.ke.com/zufang/BJ2208472598722125824.html 2019-03-09\n",
      "BJ2208472598722125824\n",
      "https://ke-image.ljcdn.com/ehr-personnel/201808271634550273W7FU3PQ.jpg\n",
      "无信息卡号。\n",
      "['https://ke-image.ljcdn.com/110000-inspection/0ec41065-2c32-4347-8c50-eb4e519b0415.jpg.780x439.jpg', 'https://ke-image.ljcdn.com/110000-inspection/32bfc4f8-f582-4886-97d0-15a99f2a715e.jpg.780x439.jpg', 'https://s1.ljcdn.com/matrix_pc/dist/pc/src/resource/default/780-439.png?_v=20190411190841403', 'https://s1.ljcdn.com/matrix_pc/dist/pc/src/resource/default/780-439.png?_v=20190411190841403', 'https://s1.ljcdn.com/matrix_pc/dist/pc/src/resource/default/780-439.png?_v=20190411190841403', 'https://s1.ljcdn.com/matrix_pc/dist/pc/src/resource/default/780-439.png?_v=20190411190841403', 'https://s1.ljcdn.com/matrix_pc/dist/pc/src/resource/default/780-439.png?_v=20190411190841403', 'https://s1.ljcdn.com/matrix_pc/dist/pc/src/resource/default/780-439.png?_v=20190411190841403', 'https://s1.ljcdn.com/matrix_pc/dist/pc/src/resource/default/780-439.png?_v=20190411190841403', 'https://ke-image.ljcdn.com/110000-inspection/d218d246-9968-48a2-a0c9-ddd1ca23a77b.jpg.780x439.jpg']\n",
      "11000\n",
      "['近地铁', '集中供暖', '随时看房']\n",
      "2室2厅1卫 106 南 北\n",
      "4000608663转5619\n"
     ]
    },
    {
     "name": "stderr",
     "output_type": "stream",
     "text": [
      "\r",
      "  1%|▍                                     | 39/3000 [00:53<1:07:21,  1.36s/it]"
     ]
    },
    {
     "name": "stdout",
     "output_type": "stream",
     "text": [
      "整租 泰禾中央广场 2室1厅 复式\n",
      "https://bj.zu.ke.com/zufang/BJ2206209107479248896.html 2019-03-06\n",
      "BJ2206209107479248896\n",
      "https://ke-image.ljcdn.com/rent-user-avatar/ee395f4e-bae5-4eca-adc5-29da7e4b756d\n",
      "无信息卡号。\n",
      "['https://ke-image.ljcdn.com/rent-user-avatar/a52f89b6-c111-4a35-8afa-6bb0667d0d30.780x439.jpg', 'https://ke-image.ljcdn.com/rent-user-avatar/e526fc91-4029-4fa5-97ce-c7f3cabcf229.780x439.jpg', 'https://s1.ljcdn.com/matrix_pc/dist/pc/src/resource/default/780-439.png?_v=20190411190841403', 'https://s1.ljcdn.com/matrix_pc/dist/pc/src/resource/default/780-439.png?_v=20190411190841403', 'https://s1.ljcdn.com/matrix_pc/dist/pc/src/resource/default/780-439.png?_v=20190411190841403', 'https://s1.ljcdn.com/matrix_pc/dist/pc/src/resource/default/780-439.png?_v=20190411190841403', 'https://s1.ljcdn.com/matrix_pc/dist/pc/src/resource/default/780-439.png?_v=20190411190841403', 'https://s1.ljcdn.com/matrix_pc/dist/pc/src/resource/default/780-439.png?_v=20190411190841403', 'https://s1.ljcdn.com/matrix_pc/dist/pc/src/resource/default/780-439.png?_v=20190411190841403', 'https://s1.ljcdn.com/matrix_pc/dist/pc/src/resource/default/780-439.png?_v=20190411190841403', 'https://ke-image.ljcdn.com/rent-user-avatar/dd5b9098-18ad-48e4-90ef-4ded7253b2ff.780x439.jpg']\n",
      "4600\n",
      "['在线签约', '月租', '近地铁', '精装', '押一付一', '随时看房']\n",
      "2室1厅1卫 100 西\n",
      "4000608581转7571\n"
     ]
    },
    {
     "name": "stderr",
     "output_type": "stream",
     "text": [
      "  1%|▌                                       | 41/3000 [00:55<54:54,  1.11s/it]"
     ]
    },
    {
     "name": "stdout",
     "output_type": "stream",
     "text": [
      "整租 朝阳门 吉祥里西区 东南两居室 大客厅 有电梯\n",
      "https://bj.zu.ke.com/zufang/BJ2208663999183331328.html 2019-04-04\n",
      "BJ2208663999183331328\n",
      "https://ke-image.ljcdn.com/ehr-personnel/20180823102223287X8STJV4F.jpg\n",
      "无信息卡号。\n",
      "['https://ke-image.ljcdn.com/110000-inspection/7dd2af30-45d5-49f1-a929-634b128e9363.jpg.780x439.jpg', 'https://ke-image.ljcdn.com/110000-inspection/ae7e63d1-c784-443b-80da-cbc893176561.jpg.780x439.jpg', 'https://s1.ljcdn.com/matrix_pc/dist/pc/src/resource/default/780-439.png?_v=20190411190841403', 'https://s1.ljcdn.com/matrix_pc/dist/pc/src/resource/default/780-439.png?_v=20190411190841403', 'https://s1.ljcdn.com/matrix_pc/dist/pc/src/resource/default/780-439.png?_v=20190411190841403', 'https://s1.ljcdn.com/matrix_pc/dist/pc/src/resource/default/780-439.png?_v=20190411190841403', 'https://ke-image.ljcdn.com/110000-inspection/892d4e12-e7fd-466f-a3b5-cfb214ea4317.jpg.780x439.jpg']\n",
      "8500\n",
      "['近地铁', '精装', '集中供暖', '随时看房']\n",
      "2室1厅1卫 67 东 南\n",
      "4000608663转0620\n"
     ]
    },
    {
     "name": "stderr",
     "output_type": "stream",
     "text": [
      "\r",
      "  1%|▌                                       | 42/3000 [00:56<56:13,  1.14s/it]"
     ]
    },
    {
     "name": "stdout",
     "output_type": "stream",
     "text": [
      "整租 国贸双井 南北向两居室 随时可看随时起租\n",
      "https://bj.zu.ke.com/zufang/BJ2209405301176934400.html 2019-03-22\n",
      "BJ2209405301176934400\n",
      "https://ke-image.ljcdn.com/ehr-personnel/20180823185953743NZWTKCMR.jpg\n",
      "无信息卡号。\n",
      "['https://ke-image.ljcdn.com/110000-inspection/prod-bbc02f07-3b2c-445f-b117-4e20765645d0.jpg.780x439.jpg', 'https://ke-image.ljcdn.com/hdic-frame/prod-bbb3e718-943c-4234-bb1d-94546c7381e2.png.780x439.jpg', 'https://s1.ljcdn.com/matrix_pc/dist/pc/src/resource/default/780-439.png?_v=20190411190841403', 'https://s1.ljcdn.com/matrix_pc/dist/pc/src/resource/default/780-439.png?_v=20190411190841403', 'https://s1.ljcdn.com/matrix_pc/dist/pc/src/resource/default/780-439.png?_v=20190411190841403', 'https://s1.ljcdn.com/matrix_pc/dist/pc/src/resource/default/780-439.png?_v=20190411190841403', 'https://ke-image.ljcdn.com/110000-inspection/prod-00418888-e7c4-4005-84ae-35ed4e49537f.jpg.780x439.jpg']\n",
      "7600\n",
      "['近地铁', '精装', '集中供暖', '随时看房']\n",
      "2室1厅1卫 61 南 北\n",
      "4000608573转9396\n"
     ]
    },
    {
     "name": "stderr",
     "output_type": "stream",
     "text": [
      "\r",
      "  1%|▌                                       | 43/3000 [00:57<57:25,  1.17s/it]"
     ]
    },
    {
     "name": "stdout",
     "output_type": "stream",
     "text": [
      "整租 南北通透 精装修 拎包入住 家电齐全\n",
      "https://bj.zu.ke.com/zufang/BJ2209438120666210304.html 2019-03-10\n",
      "BJ2209438120666210304\n",
      "https://ke-image.ljcdn.com/ehr-personnel/20180828184356250P6B1GFPU.jpg\n",
      "无信息卡号。\n",
      "['https://ke-image.ljcdn.com/110000-inspection/03495338-22cc-4ffe-85af-133c149a02b1.png.780x439.jpg', 'https://ke-image.ljcdn.com/110000-inspection/aa577c1a-7ce4-44b2-9e67-ecb7889d07e9.png.780x439.jpg', 'https://s1.ljcdn.com/matrix_pc/dist/pc/src/resource/default/780-439.png?_v=20190411190841403', 'https://s1.ljcdn.com/matrix_pc/dist/pc/src/resource/default/780-439.png?_v=20190411190841403', 'https://s1.ljcdn.com/matrix_pc/dist/pc/src/resource/default/780-439.png?_v=20190411190841403', 'https://s1.ljcdn.com/matrix_pc/dist/pc/src/resource/default/780-439.png?_v=20190411190841403', 'https://s1.ljcdn.com/matrix_pc/dist/pc/src/resource/default/780-439.png?_v=20190411190841403', 'https://ke-image.ljcdn.com/110000-inspection/65eeb2fe-251f-4eae-ab46-0c91b3345880.png.780x439.jpg']\n",
      "8000\n",
      "['近地铁', '精装', '集中供暖', '随时看房']\n",
      "2室1厅1卫 58 南 北\n",
      "4000608659转7159\n"
     ]
    },
    {
     "name": "stderr",
     "output_type": "stream",
     "text": [
      "\r",
      "  1%|▌                                     | 44/3000 [00:59<1:04:25,  1.31s/it]"
     ]
    },
    {
     "name": "stdout",
     "output_type": "stream",
     "text": [
      "整租 西长安壹号 2室1厅\n",
      "https://bj.zu.ke.com/zufang/BJ2206520770480848896.html 2019-03-06\n",
      "BJ2206520770480848896\n",
      "https://ke-image.ljcdn.com/rent-user-avatar/d95a0f0b-f099-401a-bcd9-e6718008b19d\n",
      "无信息卡号。\n",
      "['https://ke-image.ljcdn.com/rent-user-avatar/27e62c9c-3364-49f9-bb5a-f790ea70a75e.780x439.jpg', 'https://ke-image.ljcdn.com/rent-user-avatar/3393776a-067a-4ca0-bc32-c1df2a27fe71.780x439.jpg', 'https://s1.ljcdn.com/matrix_pc/dist/pc/src/resource/default/780-439.png?_v=20190411190841403', 'https://s1.ljcdn.com/matrix_pc/dist/pc/src/resource/default/780-439.png?_v=20190411190841403', 'https://s1.ljcdn.com/matrix_pc/dist/pc/src/resource/default/780-439.png?_v=20190411190841403', 'https://s1.ljcdn.com/matrix_pc/dist/pc/src/resource/default/780-439.png?_v=20190411190841403', 'https://s1.ljcdn.com/matrix_pc/dist/pc/src/resource/default/780-439.png?_v=20190411190841403', 'https://s1.ljcdn.com/matrix_pc/dist/pc/src/resource/default/780-439.png?_v=20190411190841403', 'https://s1.ljcdn.com/matrix_pc/dist/pc/src/resource/default/780-439.png?_v=20190411190841403', 'https://s1.ljcdn.com/matrix_pc/dist/pc/src/resource/default/780-439.png?_v=20190411190841403', 'https://s1.ljcdn.com/matrix_pc/dist/pc/src/resource/default/780-439.png?_v=20190411190841403', 'https://s1.ljcdn.com/matrix_pc/dist/pc/src/resource/default/780-439.png?_v=20190411190841403', 'https://s1.ljcdn.com/matrix_pc/dist/pc/src/resource/default/780-439.png?_v=20190411190841403', 'https://s1.ljcdn.com/matrix_pc/dist/pc/src/resource/default/780-439.png?_v=20190411190841403', 'https://s1.ljcdn.com/matrix_pc/dist/pc/src/resource/default/780-439.png?_v=20190411190841403', 'https://s1.ljcdn.com/matrix_pc/dist/pc/src/resource/default/780-439.png?_v=20190411190841403', 'https://s1.ljcdn.com/matrix_pc/dist/pc/src/resource/default/780-439.png?_v=20190411190841403', 'https://s1.ljcdn.com/matrix_pc/dist/pc/src/resource/default/780-439.png?_v=20190411190841403', 'https://s1.ljcdn.com/matrix_pc/dist/pc/src/resource/default/780-439.png?_v=20190411190841403', 'https://s1.ljcdn.com/matrix_pc/dist/pc/src/resource/default/780-439.png?_v=20190411190841403', 'https://s1.ljcdn.com/matrix_pc/dist/pc/src/resource/default/780-439.png?_v=20190411190841403', 'https://s1.ljcdn.com/matrix_pc/dist/pc/src/resource/default/780-439.png?_v=20190411190841403', 'https://ke-image.ljcdn.com/rent-user-avatar/2d5ef0ee-f40b-41fd-b087-d946dcef8e0c.780x439.jpg']\n",
      "4000\n",
      "['在线签约', '公寓', '月租', '近地铁', '精装', '双卫生间', '随时看房']\n",
      "2室1厅2卫 69 西北\n",
      "4000608684转9488\n"
     ]
    },
    {
     "name": "stderr",
     "output_type": "stream",
     "text": [
      "  2%|▌                                     | 46/3000 [01:02<1:07:33,  1.37s/it]"
     ]
    },
    {
     "name": "stdout",
     "output_type": "stream",
     "text": [
      "整租 整租 金融街高楼层两居室 电梯直达\n",
      "https://bj.zu.ke.com/zufang/BJ2210568122921402368.html 2019-03-12\n",
      "BJ2210568122921402368\n",
      "https://ke-image.ljcdn.com/ehr-personnel/2018082311322286889ZXJ5LS.jpg\n",
      "无信息卡号。\n",
      "['https://ke-image.ljcdn.com/110000-inspection/3ca22be8-c35d-48bf-affa-cc19c852847f.jpg.780x439.jpg', 'https://ke-image.ljcdn.com/hdic-frame/a1c4b956-de84-4347-9e73-1d0545b378ad.png.780x439.jpg', 'https://s1.ljcdn.com/matrix_pc/dist/pc/src/resource/default/780-439.png?_v=20190411190841403', 'https://s1.ljcdn.com/matrix_pc/dist/pc/src/resource/default/780-439.png?_v=20190411190841403', 'https://s1.ljcdn.com/matrix_pc/dist/pc/src/resource/default/780-439.png?_v=20190411190841403', 'https://s1.ljcdn.com/matrix_pc/dist/pc/src/resource/default/780-439.png?_v=20190411190841403', 'https://ke-image.ljcdn.com/110000-inspection/ea6f6bfc-5627-4736-a67e-e9624f51007c.jpg.780x439.jpg']\n",
      "9000\n",
      "['近地铁', '集中供暖', '随时看房']\n",
      "2室1厅1卫 63 西北\n",
      "4000608270转0930\n"
     ]
    },
    {
     "name": "stderr",
     "output_type": "stream",
     "text": [
      "\r",
      "  2%|▌                                     | 47/3000 [01:03<1:10:55,  1.44s/it]"
     ]
    },
    {
     "name": "stdout",
     "output_type": "stream",
     "text": [
      "整租 博雅国际朝南一居，干净整洁，家具家电齐全\n",
      "https://bj.zu.ke.com/zufang/BJ2211348405190934528.html 2019-03-13\n",
      "BJ2211348405190934528\n",
      "https://ke-image.ljcdn.com/ehr-personnel/20180822150801103AVXOVHIN.jpg\n",
      "无信息卡号。\n",
      "['https://ke-image.ljcdn.com/hdic-frame/869dc636-6d7b-4ee2-a793-9fcd1c595e42.png.780x439.jpg', 'https://ke-image.ljcdn.com/110000-inspection/20ba708a-561a-4198-bc46-863bfa2b46a2.JPG.780x439.jpg', 'https://s1.ljcdn.com/matrix_pc/dist/pc/src/resource/default/780-439.png?_v=20190411190841403', 'https://s1.ljcdn.com/matrix_pc/dist/pc/src/resource/default/780-439.png?_v=20190411190841403', 'https://ke-image.ljcdn.com/110000-inspection/42fadf4a-28ad-48f0-9a69-8c386680970a.JPG.780x439.jpg']\n",
      "8300\n",
      "['近地铁', '精装', '集中供暖', '随时看房']\n",
      "1室1厅1卫 65 南\n",
      "4000608724转2356\n"
     ]
    },
    {
     "name": "stderr",
     "output_type": "stream",
     "text": [
      "\r",
      "  2%|▌                                     | 48/3000 [01:05<1:10:19,  1.43s/it]"
     ]
    },
    {
     "name": "stdout",
     "output_type": "stream",
     "text": [
      "整租 西长安壹号 2室1厅\n",
      "https://bj.zu.ke.com/zufang/BJ2206520782979604480.html 2019-03-06\n",
      "BJ2206520782979604480\n",
      "https://ke-image.ljcdn.com/rent-user-avatar/d95a0f0b-f099-401a-bcd9-e6718008b19d\n",
      "无信息卡号。\n",
      "['https://ke-image.ljcdn.com/rent-user-avatar/2c54bb55-0442-4cf1-94c0-00232dbb545a.780x439.jpg', 'https://ke-image.ljcdn.com/rent-user-avatar/8459696e-410f-477d-821c-24546abca42f.780x439.jpg', 'https://s1.ljcdn.com/matrix_pc/dist/pc/src/resource/default/780-439.png?_v=20190411190841403', 'https://s1.ljcdn.com/matrix_pc/dist/pc/src/resource/default/780-439.png?_v=20190411190841403', 'https://s1.ljcdn.com/matrix_pc/dist/pc/src/resource/default/780-439.png?_v=20190411190841403', 'https://s1.ljcdn.com/matrix_pc/dist/pc/src/resource/default/780-439.png?_v=20190411190841403', 'https://s1.ljcdn.com/matrix_pc/dist/pc/src/resource/default/780-439.png?_v=20190411190841403', 'https://s1.ljcdn.com/matrix_pc/dist/pc/src/resource/default/780-439.png?_v=20190411190841403', 'https://s1.ljcdn.com/matrix_pc/dist/pc/src/resource/default/780-439.png?_v=20190411190841403', 'https://s1.ljcdn.com/matrix_pc/dist/pc/src/resource/default/780-439.png?_v=20190411190841403', 'https://s1.ljcdn.com/matrix_pc/dist/pc/src/resource/default/780-439.png?_v=20190411190841403', 'https://s1.ljcdn.com/matrix_pc/dist/pc/src/resource/default/780-439.png?_v=20190411190841403', 'https://s1.ljcdn.com/matrix_pc/dist/pc/src/resource/default/780-439.png?_v=20190411190841403', 'https://s1.ljcdn.com/matrix_pc/dist/pc/src/resource/default/780-439.png?_v=20190411190841403', 'https://s1.ljcdn.com/matrix_pc/dist/pc/src/resource/default/780-439.png?_v=20190411190841403', 'https://s1.ljcdn.com/matrix_pc/dist/pc/src/resource/default/780-439.png?_v=20190411190841403', 'https://s1.ljcdn.com/matrix_pc/dist/pc/src/resource/default/780-439.png?_v=20190411190841403', 'https://s1.ljcdn.com/matrix_pc/dist/pc/src/resource/default/780-439.png?_v=20190411190841403', 'https://s1.ljcdn.com/matrix_pc/dist/pc/src/resource/default/780-439.png?_v=20190411190841403', 'https://s1.ljcdn.com/matrix_pc/dist/pc/src/resource/default/780-439.png?_v=20190411190841403', 'https://s1.ljcdn.com/matrix_pc/dist/pc/src/resource/default/780-439.png?_v=20190411190841403', 'https://s1.ljcdn.com/matrix_pc/dist/pc/src/resource/default/780-439.png?_v=20190411190841403', 'https://s1.ljcdn.com/matrix_pc/dist/pc/src/resource/default/780-439.png?_v=20190411190841403', 'https://s1.ljcdn.com/matrix_pc/dist/pc/src/resource/default/780-439.png?_v=20190411190841403', 'https://s1.ljcdn.com/matrix_pc/dist/pc/src/resource/default/780-439.png?_v=20190411190841403', 'https://s1.ljcdn.com/matrix_pc/dist/pc/src/resource/default/780-439.png?_v=20190411190841403', 'https://s1.ljcdn.com/matrix_pc/dist/pc/src/resource/default/780-439.png?_v=20190411190841403', 'https://s1.ljcdn.com/matrix_pc/dist/pc/src/resource/default/780-439.png?_v=20190411190841403', 'https://s1.ljcdn.com/matrix_pc/dist/pc/src/resource/default/780-439.png?_v=20190411190841403', 'https://ke-image.ljcdn.com/rent-user-avatar/eaa2c866-2dba-4fb0-a186-dfb12c01f5aa.780x439.jpg']\n",
      "4200\n",
      "['在线签约', '公寓', '月租', '近地铁', '精装', '押一付一', '双卫生间', '随时看房']\n",
      "2室1厅2卫 73 东\n",
      "4000608740转3693\n"
     ]
    },
    {
     "name": "stderr",
     "output_type": "stream",
     "text": [
      "  2%|▋                                     | 50/3000 [01:08<1:13:14,  1.49s/it]"
     ]
    },
    {
     "name": "stdout",
     "output_type": "stream",
     "text": [
      "整租 海淀区紫竹桥车道沟10号院精装二居室\n",
      "https://bj.zu.ke.com/zufang/BJ2211495597402767360.html 2019-03-13\n",
      "BJ2211495597402767360\n",
      "https://ke-image.ljcdn.com/ehr-personnel/20180824174922887SOERXOKO.jpg\n",
      "无信息卡号。\n",
      "['https://ke-image.ljcdn.com/110000-inspection/1931916c-ad09-4ec3-85eb-477ce91f38ca.jpg.780x439.jpg', 'https://ke-image.ljcdn.com/hdic-frame/da517192-fc1d-4c3c-87c1-1eea0cabd1c9.png.780x439.jpg', 'https://s1.ljcdn.com/matrix_pc/dist/pc/src/resource/default/780-439.png?_v=20190411190841403', 'https://s1.ljcdn.com/matrix_pc/dist/pc/src/resource/default/780-439.png?_v=20190411190841403', 'https://s1.ljcdn.com/matrix_pc/dist/pc/src/resource/default/780-439.png?_v=20190411190841403', 'https://s1.ljcdn.com/matrix_pc/dist/pc/src/resource/default/780-439.png?_v=20190411190841403', 'https://ke-image.ljcdn.com/110000-inspection/086d441f-dbf8-4f7c-a749-a709e2ce0891.jpg.780x439.jpg']\n",
      "8000\n",
      "['近地铁', '精装', '集中供暖', '随时看房']\n",
      "2室1厅1卫 53 南 北\n",
      "4000608722转4378\n"
     ]
    },
    {
     "name": "stderr",
     "output_type": "stream",
     "text": [
      "\r",
      "  2%|▋                                     | 51/3000 [01:10<1:11:00,  1.44s/it]"
     ]
    },
    {
     "name": "stdout",
     "output_type": "stream",
     "text": [
      "整租 有钥匙随时入住 中间楼层，朝南 户型方正。\n",
      "https://bj.zu.ke.com/zufang/BJ2211613819783364608.html 2019-03-15\n",
      "BJ2211613819783364608\n",
      "https://ke-image.ljcdn.com/ehr-personnel/20180823174147908UY6D7QB0.jpg\n",
      "无信息卡号。\n",
      "['https://ke-image.ljcdn.com/110000-inspection/prod-2904760b-bf5f-4f97-b044-0fdc8f6eee76.png.780x439.jpg', 'https://ke-image.ljcdn.com/hdic-frame/prod-2e71eca0-ad3e-492c-8396-169a65149718.png.780x439.jpg', 'https://s1.ljcdn.com/matrix_pc/dist/pc/src/resource/default/780-439.png?_v=20190411190841403', 'https://s1.ljcdn.com/matrix_pc/dist/pc/src/resource/default/780-439.png?_v=20190411190841403', 'https://s1.ljcdn.com/matrix_pc/dist/pc/src/resource/default/780-439.png?_v=20190411190841403', 'https://s1.ljcdn.com/matrix_pc/dist/pc/src/resource/default/780-439.png?_v=20190411190841403', 'https://ke-image.ljcdn.com/110000-inspection/prod-d6b0dcf8-da5f-4b22-9c63-9b4fc3d318f0.png.780x439.jpg']\n",
      "4700\n",
      "['近地铁', '集中供暖', '随时看房']\n",
      "1室1厅1卫 42 南\n",
      "4000608593转2741\n"
     ]
    },
    {
     "name": "stderr",
     "output_type": "stream",
     "text": [
      "\r",
      "  2%|▋                                     | 52/3000 [01:11<1:10:53,  1.44s/it]"
     ]
    },
    {
     "name": "stdout",
     "output_type": "stream",
     "text": [
      "https://bj.zu.ke.com/zufang/BJ2212235933707665408.html 租赁方式未知 精装修 能长租 随时看房 随时签约\n",
      "https://bj.zu.ke.com/zufang/BJ2212235933707665408.html 2019-03-14\n",
      "BJ2212235933707665408\n",
      "https://ke-image.ljcdn.com/ehr-personnel/201808221954218620JEQED44.jpg\n",
      "无信息卡号。\n",
      "['https://ke-image.ljcdn.com/110000-inspection/3738eeda-b202-4954-9abe-eb27b17b9fe3.jpg.780x439.jpg', 'https://ke-image.ljcdn.com/hdic-frame/cab5d47e-d559-4854-a2bf-46ad403d86fe.png.780x439.jpg', 'https://s1.ljcdn.com/matrix_pc/dist/pc/src/resource/default/780-439.png?_v=20190411190841403', 'https://s1.ljcdn.com/matrix_pc/dist/pc/src/resource/default/780-439.png?_v=20190411190841403', 'https://s1.ljcdn.com/matrix_pc/dist/pc/src/resource/default/780-439.png?_v=20190411190841403', 'https://s1.ljcdn.com/matrix_pc/dist/pc/src/resource/default/780-439.png?_v=20190411190841403', 'https://s1.ljcdn.com/matrix_pc/dist/pc/src/resource/default/780-439.png?_v=20190411190841403', 'https://ke-image.ljcdn.com/110000-inspection/18dbeae2-2210-4525-abc1-0cda4f3b07b3.jpg.780x439.jpg']\n",
      "7800\n",
      "['近地铁', '集中供暖', '随时看房']\n",
      "2室1厅1卫 53 东 西\n",
      "4000608727转2496\n"
     ]
    },
    {
     "name": "stderr",
     "output_type": "stream",
     "text": [
      "\r",
      "  2%|▋                                     | 53/3000 [01:12<1:05:45,  1.34s/it]"
     ]
    },
    {
     "name": "stdout",
     "output_type": "stream",
     "text": [
      "整租 西长安壹号 2室1厅\n",
      "https://bj.zu.ke.com/zufang/BJ2228971548193603584.html 2019-04-06\n",
      "BJ2228971548193603584\n",
      "https://ke-image.ljcdn.com/rent-user-avatar/1943d55f-b556-4020-b435-068198701172\n",
      "无信息卡号。\n",
      "['https://ke-image.ljcdn.com/rent-user-avatar/02d4eb88-40f2-45ab-bb40-efd57f5fe1e4.780x439.jpg', 'https://ke-image.ljcdn.com/rent-user-avatar/09bb287f-a9bb-49f2-8125-d6cdbe0fd457.780x439.jpg', 'https://s1.ljcdn.com/matrix_pc/dist/pc/src/resource/default/780-439.png?_v=20190411190841403', 'https://s1.ljcdn.com/matrix_pc/dist/pc/src/resource/default/780-439.png?_v=20190411190841403', 'https://s1.ljcdn.com/matrix_pc/dist/pc/src/resource/default/780-439.png?_v=20190411190841403', 'https://s1.ljcdn.com/matrix_pc/dist/pc/src/resource/default/780-439.png?_v=20190411190841403', 'https://s1.ljcdn.com/matrix_pc/dist/pc/src/resource/default/780-439.png?_v=20190411190841403', 'https://s1.ljcdn.com/matrix_pc/dist/pc/src/resource/default/780-439.png?_v=20190411190841403', 'https://s1.ljcdn.com/matrix_pc/dist/pc/src/resource/default/780-439.png?_v=20190411190841403', 'https://s1.ljcdn.com/matrix_pc/dist/pc/src/resource/default/780-439.png?_v=20190411190841403', 'https://s1.ljcdn.com/matrix_pc/dist/pc/src/resource/default/780-439.png?_v=20190411190841403', 'https://s1.ljcdn.com/matrix_pc/dist/pc/src/resource/default/780-439.png?_v=20190411190841403', 'https://s1.ljcdn.com/matrix_pc/dist/pc/src/resource/default/780-439.png?_v=20190411190841403', 'https://s1.ljcdn.com/matrix_pc/dist/pc/src/resource/default/780-439.png?_v=20190411190841403', 'https://s1.ljcdn.com/matrix_pc/dist/pc/src/resource/default/780-439.png?_v=20190411190841403', 'https://s1.ljcdn.com/matrix_pc/dist/pc/src/resource/default/780-439.png?_v=20190411190841403', 'https://s1.ljcdn.com/matrix_pc/dist/pc/src/resource/default/780-439.png?_v=20190411190841403', 'https://s1.ljcdn.com/matrix_pc/dist/pc/src/resource/default/780-439.png?_v=20190411190841403', 'https://s1.ljcdn.com/matrix_pc/dist/pc/src/resource/default/780-439.png?_v=20190411190841403', 'https://s1.ljcdn.com/matrix_pc/dist/pc/src/resource/default/780-439.png?_v=20190411190841403', 'https://s1.ljcdn.com/matrix_pc/dist/pc/src/resource/default/780-439.png?_v=20190411190841403', 'https://s1.ljcdn.com/matrix_pc/dist/pc/src/resource/default/780-439.png?_v=20190411190841403', 'https://s1.ljcdn.com/matrix_pc/dist/pc/src/resource/default/780-439.png?_v=20190411190841403', 'https://s1.ljcdn.com/matrix_pc/dist/pc/src/resource/default/780-439.png?_v=20190411190841403', 'https://ke-image.ljcdn.com/rent-user-avatar/97c38d5a-afce-45d7-a99d-784340e412b4.780x439.jpg']\n",
      "4600\n",
      "['在线签约', '公寓', '月租', '近地铁', '精装', '押一付一', '随时看房']\n",
      "2室1厅1卫 120 南\n",
      "4000608683转2563\n"
     ]
    },
    {
     "name": "stderr",
     "output_type": "stream",
     "text": [
      "  2%|▋                                       | 55/3000 [01:14<55:40,  1.13s/it]"
     ]
    },
    {
     "name": "stdout",
     "output_type": "stream",
     "text": [
      "整租 阳光都市（117平米）大两居 精装修 拎包入住 看房方便\n",
      "https://bj.zu.ke.com/zufang/BJ2212783771046903808.html 2019-03-15\n",
      "BJ2212783771046903808\n",
      "https://ke-image.ljcdn.com/ehr-personnel/20180822141519535MXHWFLP3.jpg\n",
      "无信息卡号。\n",
      "['https://ke-image.ljcdn.com/110000-inspection/01620b77-3f1f-4169-af06-39dd0da623b5.jpg.780x439.jpg', 'https://ke-image.ljcdn.com/hdic-frame/3723d66a-3739-4aa2-9680-058abced2421.png.780x439.jpg', 'https://s1.ljcdn.com/matrix_pc/dist/pc/src/resource/default/780-439.png?_v=20190411190841403', 'https://s1.ljcdn.com/matrix_pc/dist/pc/src/resource/default/780-439.png?_v=20190411190841403', 'https://s1.ljcdn.com/matrix_pc/dist/pc/src/resource/default/780-439.png?_v=20190411190841403', 'https://s1.ljcdn.com/matrix_pc/dist/pc/src/resource/default/780-439.png?_v=20190411190841403', 'https://ke-image.ljcdn.com/110000-inspection/611af78c-f057-4472-ac88-a1b79005c14d.jpg.780x439.jpg']\n",
      "17000\n",
      "['近地铁', '精装', '集中供暖', '随时看房']\n",
      "2室1厅1卫 118 东北\n",
      "4000608572转4209\n"
     ]
    },
    {
     "name": "stderr",
     "output_type": "stream",
     "text": [
      "\r",
      "  2%|▋                                       | 56/3000 [01:15<54:26,  1.11s/it]"
     ]
    },
    {
     "name": "stdout",
     "output_type": "stream",
     "text": [
      "整租 建设部大院 白石桥地铁 一居室 中间楼层\n",
      "https://bj.zu.ke.com/zufang/BJ2212830279226097664.html 2019-03-15\n",
      "BJ2212830279226097664\n",
      "https://ke-image.ljcdn.com/ehr-personnel/2018082410242204879FH3TVQ.jpg\n",
      "无信息卡号。\n",
      "['https://ke-image.ljcdn.com/110000-inspection/test-3803a764-45cf-411e-9d10-fa8b5169134b.png.780x439.jpg', 'https://ke-image.ljcdn.com/hdic-frame/test-9f2d18e5-a7b4-46e7-8219-e9ed482ab5ed.png.780x439.jpg', 'https://s1.ljcdn.com/matrix_pc/dist/pc/src/resource/default/780-439.png?_v=20190411190841403', 'https://s1.ljcdn.com/matrix_pc/dist/pc/src/resource/default/780-439.png?_v=20190411190841403', 'https://s1.ljcdn.com/matrix_pc/dist/pc/src/resource/default/780-439.png?_v=20190411190841403', 'https://ke-image.ljcdn.com/110000-inspection/test-84db82b2-6483-4d7a-b4a2-9511f37ddc74.png.780x439.jpg']\n",
      "7600\n",
      "['近地铁', '集中供暖', '随时看房']\n",
      "1室1厅1卫 43 东\n",
      "4000608684转7953\n"
     ]
    },
    {
     "name": "stderr",
     "output_type": "stream",
     "text": [
      "\r",
      "  2%|▊                                       | 57/3000 [01:17<56:12,  1.15s/it]"
     ]
    },
    {
     "name": "stdout",
     "output_type": "stream",
     "text": [
      "整租 远洋新天地 2室1厅 LOFT\n",
      "https://bj.zu.ke.com/zufang/BJ2228978456069144576.html 2019-04-06\n",
      "BJ2228978456069144576\n",
      "https://ke-image.ljcdn.com/rent-user-avatar/1943d55f-b556-4020-b435-068198701172\n",
      "无信息卡号。\n",
      "['https://ke-image.ljcdn.com/rent-user-avatar/2e80c71e-9320-4199-b565-40a958c5794d.780x439.jpg', 'https://ke-image.ljcdn.com/rent-user-avatar/4914dcac-00d2-4027-b9ac-9320ef168cdf.780x439.jpg', 'https://s1.ljcdn.com/matrix_pc/dist/pc/src/resource/default/780-439.png?_v=20190411190841403', 'https://s1.ljcdn.com/matrix_pc/dist/pc/src/resource/default/780-439.png?_v=20190411190841403', 'https://s1.ljcdn.com/matrix_pc/dist/pc/src/resource/default/780-439.png?_v=20190411190841403', 'https://s1.ljcdn.com/matrix_pc/dist/pc/src/resource/default/780-439.png?_v=20190411190841403', 'https://s1.ljcdn.com/matrix_pc/dist/pc/src/resource/default/780-439.png?_v=20190411190841403', 'https://s1.ljcdn.com/matrix_pc/dist/pc/src/resource/default/780-439.png?_v=20190411190841403', 'https://s1.ljcdn.com/matrix_pc/dist/pc/src/resource/default/780-439.png?_v=20190411190841403', 'https://s1.ljcdn.com/matrix_pc/dist/pc/src/resource/default/780-439.png?_v=20190411190841403', 'https://s1.ljcdn.com/matrix_pc/dist/pc/src/resource/default/780-439.png?_v=20190411190841403', 'https://s1.ljcdn.com/matrix_pc/dist/pc/src/resource/default/780-439.png?_v=20190411190841403', 'https://s1.ljcdn.com/matrix_pc/dist/pc/src/resource/default/780-439.png?_v=20190411190841403', 'https://s1.ljcdn.com/matrix_pc/dist/pc/src/resource/default/780-439.png?_v=20190411190841403', 'https://s1.ljcdn.com/matrix_pc/dist/pc/src/resource/default/780-439.png?_v=20190411190841403', 'https://s1.ljcdn.com/matrix_pc/dist/pc/src/resource/default/780-439.png?_v=20190411190841403', 'https://s1.ljcdn.com/matrix_pc/dist/pc/src/resource/default/780-439.png?_v=20190411190841403', 'https://s1.ljcdn.com/matrix_pc/dist/pc/src/resource/default/780-439.png?_v=20190411190841403', 'https://ke-image.ljcdn.com/rent-user-avatar/88d5e412-1ce9-4dba-96aa-bec31612e8fb.780x439.jpg']\n",
      "4300\n",
      "['在线签约', '公寓', '近地铁', '精装', '双卫生间', '随时看房']\n",
      "2室1厅2卫 89 南\n",
      "4000608739转3556\n"
     ]
    },
    {
     "name": "stderr",
     "output_type": "stream",
     "text": [
      "  2%|▊                                       | 59/3000 [01:18<44:12,  1.11it/s]"
     ]
    },
    {
     "name": "stdout",
     "output_type": "stream",
     "text": [
      "整租 南半截胡同26号院 3室0厅 6100元\n",
      "https://bj.zu.ke.com/zufang/BJ2212908704364773376.html 2019-03-15\n",
      "BJ2212908704364773376\n",
      "https://ke-image.ljcdn.com/ehr-personnel/20180824101517796YWRIYIX0.jpg\n",
      "无信息卡号。\n",
      "['https://ke-image.ljcdn.com/hdic-frame/test-f7c11f0d-f821-45be-a9ed-2f49de189779.png.780x439.jpg', 'https://ke-image.ljcdn.com/110000-inspection/test-12f27225-da7c-480c-ba3e-5da02009e4c1.png.780x439.jpg', 'https://s1.ljcdn.com/matrix_pc/dist/pc/src/resource/default/780-439.png?_v=20190411190841403', 'https://s1.ljcdn.com/matrix_pc/dist/pc/src/resource/default/780-439.png?_v=20190411190841403', 'https://s1.ljcdn.com/matrix_pc/dist/pc/src/resource/default/780-439.png?_v=20190411190841403', 'https://s1.ljcdn.com/matrix_pc/dist/pc/src/resource/default/780-439.png?_v=20190411190841403', 'https://ke-image.ljcdn.com/110000-inspection/test-76cd927c-6213-45c9-8f90-b0ff6b8b9b5f.png.780x439.jpg']\n",
      "6100\n",
      "['近地铁', '随时看房']\n",
      "3室0厅1卫 56 南 北\n",
      "4000608564转9802\n"
     ]
    },
    {
     "name": "stderr",
     "output_type": "stream",
     "text": [
      "\r",
      "  2%|▊                                       | 60/3000 [01:19<51:58,  1.06s/it]"
     ]
    },
    {
     "name": "stdout",
     "output_type": "stream",
     "text": [
      "https://bj.zu.ke.com/zufang/BJ2212913431990763520.html 租赁方式未知 远见名苑开间 适合居家 小区环境好\n",
      "https://bj.zu.ke.com/zufang/BJ2212913431990763520.html 2019-03-15\n",
      "BJ2212913431990763520\n",
      "https://ke-image.ljcdn.com/ehr-personnel/20190321145912236UJCDNHLK.png\n",
      "无信息卡号。\n",
      "['https://ke-image.ljcdn.com/110000-inspection/226241c2-4afd-4f75-ac9f-a51a2d339199.jpg.780x439.jpg', 'https://ke-image.ljcdn.com/110000-inspection/8a8920e3-cbde-40c3-981c-7533610a79ea.jpg.780x439.jpg', 'https://s1.ljcdn.com/matrix_pc/dist/pc/src/resource/default/780-439.png?_v=20190411190841403', 'https://ke-image.ljcdn.com/110000-inspection/0970618f-5c25-4ebd-96c4-ee4aae6b1a7b.jpg.780x439.jpg']\n",
      "4800\n",
      "['近地铁', '随时看房']\n",
      "1室0厅1卫 70 西\n",
      "4000608673转4413\n"
     ]
    },
    {
     "name": "stderr",
     "output_type": "stream",
     "text": [
      "\r",
      "  2%|▊                                       | 61/3000 [01:21<55:44,  1.14s/it]"
     ]
    },
    {
     "name": "stdout",
     "output_type": "stream",
     "text": [
      "整租 三义庙北 2室1厅 7000元\n",
      "https://bj.zu.ke.com/zufang/BJ2213697376927875072.html 2019-03-16\n",
      "BJ2213697376927875072\n",
      "https://ke-image.ljcdn.com/ehr-personnel/20190313153628551NSG7K9E2.png\n",
      "无信息卡号。\n",
      "['https://ke-image.ljcdn.com/110000-inspection/test-e378f41f-fc62-4142-8f28-565e74326262.jpg.780x439.jpg', 'https://ke-image.ljcdn.com/hdic-frame/test-8864bf5a-a9c8-4acc-9929-dbf360c4eabb.png.780x439.jpg', 'https://s1.ljcdn.com/matrix_pc/dist/pc/src/resource/default/780-439.png?_v=20190411190841403', 'https://s1.ljcdn.com/matrix_pc/dist/pc/src/resource/default/780-439.png?_v=20190411190841403', 'https://s1.ljcdn.com/matrix_pc/dist/pc/src/resource/default/780-439.png?_v=20190411190841403', 'https://s1.ljcdn.com/matrix_pc/dist/pc/src/resource/default/780-439.png?_v=20190411190841403', 'https://ke-image.ljcdn.com/110000-inspection/test-59ee7b60-afda-42f5-99d0-fda8244c09f3.jpg.780x439.jpg']\n",
      "7000\n",
      "['月租', '近地铁', '集中供暖', '随时看房']\n",
      "2室1厅1卫 56 南 北\n",
      "4000608717转5982\n"
     ]
    },
    {
     "name": "stderr",
     "output_type": "stream",
     "text": [
      "\r",
      "  2%|▊                                       | 62/3000 [01:22<57:28,  1.17s/it]"
     ]
    },
    {
     "name": "stdout",
     "output_type": "stream",
     "text": [
      "整租 远洋新天地 2室1厅 LOFT\n",
      "https://bj.zu.ke.com/zufang/BJ2228990573111410688.html 2019-04-06\n",
      "BJ2228990573111410688\n",
      "https://ke-image.ljcdn.com/rent-user-avatar/1943d55f-b556-4020-b435-068198701172\n",
      "无信息卡号。\n",
      "['https://ke-image.ljcdn.com/rent-user-avatar/4274e8e6-91b0-42bc-9be2-56ff02e9d5f7.780x439.jpg', 'https://ke-image.ljcdn.com/rent-user-avatar/a5f18044-d12d-4ded-9fb0-3e88033be168.780x439.jpg', 'https://s1.ljcdn.com/matrix_pc/dist/pc/src/resource/default/780-439.png?_v=20190411190841403', 'https://s1.ljcdn.com/matrix_pc/dist/pc/src/resource/default/780-439.png?_v=20190411190841403', 'https://s1.ljcdn.com/matrix_pc/dist/pc/src/resource/default/780-439.png?_v=20190411190841403', 'https://s1.ljcdn.com/matrix_pc/dist/pc/src/resource/default/780-439.png?_v=20190411190841403', 'https://s1.ljcdn.com/matrix_pc/dist/pc/src/resource/default/780-439.png?_v=20190411190841403', 'https://s1.ljcdn.com/matrix_pc/dist/pc/src/resource/default/780-439.png?_v=20190411190841403', 'https://s1.ljcdn.com/matrix_pc/dist/pc/src/resource/default/780-439.png?_v=20190411190841403', 'https://s1.ljcdn.com/matrix_pc/dist/pc/src/resource/default/780-439.png?_v=20190411190841403', 'https://s1.ljcdn.com/matrix_pc/dist/pc/src/resource/default/780-439.png?_v=20190411190841403', 'https://s1.ljcdn.com/matrix_pc/dist/pc/src/resource/default/780-439.png?_v=20190411190841403', 'https://s1.ljcdn.com/matrix_pc/dist/pc/src/resource/default/780-439.png?_v=20190411190841403', 'https://s1.ljcdn.com/matrix_pc/dist/pc/src/resource/default/780-439.png?_v=20190411190841403', 'https://s1.ljcdn.com/matrix_pc/dist/pc/src/resource/default/780-439.png?_v=20190411190841403', 'https://s1.ljcdn.com/matrix_pc/dist/pc/src/resource/default/780-439.png?_v=20190411190841403', 'https://s1.ljcdn.com/matrix_pc/dist/pc/src/resource/default/780-439.png?_v=20190411190841403', 'https://s1.ljcdn.com/matrix_pc/dist/pc/src/resource/default/780-439.png?_v=20190411190841403', 'https://s1.ljcdn.com/matrix_pc/dist/pc/src/resource/default/780-439.png?_v=20190411190841403', 'https://s1.ljcdn.com/matrix_pc/dist/pc/src/resource/default/780-439.png?_v=20190411190841403', 'https://s1.ljcdn.com/matrix_pc/dist/pc/src/resource/default/780-439.png?_v=20190411190841403', 'https://ke-image.ljcdn.com/rent-user-avatar/b8aaa639-e060-489f-8bd3-c4f065102131.780x439.jpg']\n",
      "4300\n",
      "['在线签约', '公寓', '近地铁', '精装', '双卫生间', '随时看房']\n",
      "2室1厅2卫 89 南\n",
      "4000608684转2245\n"
     ]
    },
    {
     "name": "stderr",
     "output_type": "stream",
     "text": [
      "  2%|▊                                       | 64/3000 [01:24<52:02,  1.06s/it]"
     ]
    },
    {
     "name": "stdout",
     "output_type": "stream",
     "text": [
      "https://bj.zu.ke.com/zufang/BJ2213791819567996928.html 租赁方式未知 杨庄北街3号院 2室1厅 4300元\n",
      "https://bj.zu.ke.com/zufang/BJ2213791819567996928.html 2019-03-16\n",
      "BJ2213791819567996928\n",
      "https://ke-image.ljcdn.com/ehr-personnel/20180828180714195HUJ7OEIL.jpg\n",
      "无信息卡号。\n",
      "['https://ke-image.ljcdn.com/110000-inspection/prod-39839fb7-a691-41b0-99a2-36f574d8fbb5.jpg.780x439.jpg', 'https://ke-image.ljcdn.com/hdic-frame/prod-5f0fe01b-b3fa-40ae-9035-967884ac9919.png.780x439.jpg', 'https://s1.ljcdn.com/matrix_pc/dist/pc/src/resource/default/780-439.png?_v=20190411190841403', 'https://s1.ljcdn.com/matrix_pc/dist/pc/src/resource/default/780-439.png?_v=20190411190841403', 'https://s1.ljcdn.com/matrix_pc/dist/pc/src/resource/default/780-439.png?_v=20190411190841403', 'https://s1.ljcdn.com/matrix_pc/dist/pc/src/resource/default/780-439.png?_v=20190411190841403', 'https://ke-image.ljcdn.com/110000-inspection/prod-6882d7fb-5cc6-4bf3-b84a-248b2e64ec57.jpg.780x439.jpg']\n",
      "4300\n",
      "['近地铁', '集中供暖', '随时看房']\n",
      "2室1厅1卫 60 南 北\n",
      "4000608729转3620\n"
     ]
    },
    {
     "name": "stderr",
     "output_type": "stream",
     "text": [
      "\r",
      "  2%|▊                                       | 65/3000 [01:25<53:05,  1.09s/it]"
     ]
    },
    {
     "name": "stdout",
     "output_type": "stream",
     "text": [
      "整租 东晶国际 1室1厅 4800元\n",
      "https://bj.zu.ke.com/zufang/BJ2214376397994983424.html 2019-03-17\n",
      "BJ2214376397994983424\n",
      "https://ke-image.ljcdn.com/ehr-personnel/20180823203742841D2QQR9ZZ.jpg\n",
      "无信息卡号。\n",
      "['https://ke-image.ljcdn.com/110000-inspection/78a0be71-1959-459c-8a0d-8a67a8f1c1e5.jpg.780x439.jpg', 'https://ke-image.ljcdn.com/hdic-frame/f092dc1e-96ed-41be-bca9-324a99bd7f54.png.780x439.jpg', 'https://s1.ljcdn.com/matrix_pc/dist/pc/src/resource/default/780-439.png?_v=20190411190841403', 'https://s1.ljcdn.com/matrix_pc/dist/pc/src/resource/default/780-439.png?_v=20190411190841403', 'https://s1.ljcdn.com/matrix_pc/dist/pc/src/resource/default/780-439.png?_v=20190411190841403', 'https://ke-image.ljcdn.com/110000-inspection/13febfac-f5fa-4ef5-8855-8f6fdcbbef1f.jpg.780x439.jpg']\n",
      "4800\n",
      "['近地铁', '精装', '集中供暖', '随时看房']\n",
      "1室1厅1卫 53 西\n",
      "4000608267转5330\n"
     ]
    },
    {
     "name": "stderr",
     "output_type": "stream",
     "text": [
      "\r",
      "  2%|▉                                       | 66/3000 [01:26<55:15,  1.13s/it]"
     ]
    },
    {
     "name": "stdout",
     "output_type": "stream",
     "text": [
      "整租 远洋新天地 2室1厅 LOFT\n",
      "https://bj.zu.ke.com/zufang/BJ2229657320429207552.html 2019-04-07\n",
      "BJ2229657320429207552\n",
      "https://ke-image.ljcdn.com/rent-user-avatar/1943d55f-b556-4020-b435-068198701172\n",
      "无信息卡号。\n",
      "['https://ke-image.ljcdn.com/rent-user-avatar/48a05f9e-95e0-4b92-acec-b64248dbf9b7.780x439.jpg', 'https://ke-image.ljcdn.com/rent-user-avatar/7bafff68-b38b-4ed2-aac9-3fa96e4faecf.780x439.jpg', 'https://s1.ljcdn.com/matrix_pc/dist/pc/src/resource/default/780-439.png?_v=20190411190841403', 'https://s1.ljcdn.com/matrix_pc/dist/pc/src/resource/default/780-439.png?_v=20190411190841403', 'https://s1.ljcdn.com/matrix_pc/dist/pc/src/resource/default/780-439.png?_v=20190411190841403', 'https://s1.ljcdn.com/matrix_pc/dist/pc/src/resource/default/780-439.png?_v=20190411190841403', 'https://s1.ljcdn.com/matrix_pc/dist/pc/src/resource/default/780-439.png?_v=20190411190841403', 'https://s1.ljcdn.com/matrix_pc/dist/pc/src/resource/default/780-439.png?_v=20190411190841403', 'https://s1.ljcdn.com/matrix_pc/dist/pc/src/resource/default/780-439.png?_v=20190411190841403', 'https://s1.ljcdn.com/matrix_pc/dist/pc/src/resource/default/780-439.png?_v=20190411190841403', 'https://s1.ljcdn.com/matrix_pc/dist/pc/src/resource/default/780-439.png?_v=20190411190841403', 'https://s1.ljcdn.com/matrix_pc/dist/pc/src/resource/default/780-439.png?_v=20190411190841403', 'https://s1.ljcdn.com/matrix_pc/dist/pc/src/resource/default/780-439.png?_v=20190411190841403', 'https://s1.ljcdn.com/matrix_pc/dist/pc/src/resource/default/780-439.png?_v=20190411190841403', 'https://s1.ljcdn.com/matrix_pc/dist/pc/src/resource/default/780-439.png?_v=20190411190841403', 'https://s1.ljcdn.com/matrix_pc/dist/pc/src/resource/default/780-439.png?_v=20190411190841403', 'https://s1.ljcdn.com/matrix_pc/dist/pc/src/resource/default/780-439.png?_v=20190411190841403', 'https://s1.ljcdn.com/matrix_pc/dist/pc/src/resource/default/780-439.png?_v=20190411190841403', 'https://ke-image.ljcdn.com/rent-user-avatar/d50d94a0-371a-4666-ba3e-220f9bc60dbd.780x439.jpg']\n",
      "4300\n",
      "['在线签约', '公寓', '月租', '近地铁', '精装', '押一付一', '双卫生间', '随时看房']\n",
      "2室1厅2卫 63 西\n",
      "4000608654转7107\n"
     ]
    },
    {
     "name": "stderr",
     "output_type": "stream",
     "text": [
      "  2%|▉                                       | 68/3000 [01:29<56:34,  1.16s/it]"
     ]
    },
    {
     "name": "stdout",
     "output_type": "stream",
     "text": [
      "整租 东方瑞景三居，南北通透，采光充足，小区环境良好\n",
      "https://bj.zu.ke.com/zufang/BJ2214454750143840256.html 2019-03-17\n",
      "BJ2214454750143840256\n",
      "https://ke-image.ljcdn.com/ehr-personnel/201808221516020169IRA5PPP.jpg\n",
      "无信息卡号。\n",
      "['https://ke-image.ljcdn.com/110000-inspection/60557570-6e0e-4260-b854-4bf3159d253b.jpg.780x439.jpg', 'https://ke-image.ljcdn.com/110000-inspection/87ec9d39-cd05-4470-9bcc-0ce0379e114b.jpg.780x439.jpg', 'https://s1.ljcdn.com/matrix_pc/dist/pc/src/resource/default/780-439.png?_v=20190411190841403', 'https://s1.ljcdn.com/matrix_pc/dist/pc/src/resource/default/780-439.png?_v=20190411190841403', 'https://s1.ljcdn.com/matrix_pc/dist/pc/src/resource/default/780-439.png?_v=20190411190841403', 'https://s1.ljcdn.com/matrix_pc/dist/pc/src/resource/default/780-439.png?_v=20190411190841403', 'https://s1.ljcdn.com/matrix_pc/dist/pc/src/resource/default/780-439.png?_v=20190411190841403', 'https://s1.ljcdn.com/matrix_pc/dist/pc/src/resource/default/780-439.png?_v=20190411190841403', 'https://s1.ljcdn.com/matrix_pc/dist/pc/src/resource/default/780-439.png?_v=20190411190841403', 'https://s1.ljcdn.com/matrix_pc/dist/pc/src/resource/default/780-439.png?_v=20190411190841403', 'https://s1.ljcdn.com/matrix_pc/dist/pc/src/resource/default/780-439.png?_v=20190411190841403', 'https://ke-image.ljcdn.com/110000-inspection/62c1e10c-3cc6-444d-8662-2a0c11626d9e.jpg.780x439.jpg']\n",
      "22000\n",
      "['近地铁', '集中供暖', '随时看房']\n",
      "3室1厅3卫 209 南 北\n",
      "4000608700转7075\n"
     ]
    },
    {
     "name": "stderr",
     "output_type": "stream",
     "text": [
      "\r",
      "  2%|▊                                     | 69/3000 [01:31<1:06:00,  1.35s/it]"
     ]
    },
    {
     "name": "stdout",
     "output_type": "stream",
     "text": [
      "整租 国家计委宿舍 3室1厅 7500元\n",
      "https://bj.zu.ke.com/zufang/BJ2214898307052863488.html 2019-03-18\n",
      "BJ2214898307052863488\n",
      "https://ke-image.ljcdn.com/ehr-personnel/20180822142607388RWX68PDS.jpg\n",
      "无信息卡号。\n",
      "['https://ke-image.ljcdn.com/110000-inspection/f6e0a6de-d227-4b03-8614-c4b22ccec00a.jpg.780x439.jpg', 'https://ke-image.ljcdn.com/hdic-frame/1111130e-0a16-48e5-b097-b59500527682.png.780x439.jpg', 'https://s1.ljcdn.com/matrix_pc/dist/pc/src/resource/default/780-439.png?_v=20190411190841403', 'https://s1.ljcdn.com/matrix_pc/dist/pc/src/resource/default/780-439.png?_v=20190411190841403', 'https://s1.ljcdn.com/matrix_pc/dist/pc/src/resource/default/780-439.png?_v=20190411190841403', 'https://s1.ljcdn.com/matrix_pc/dist/pc/src/resource/default/780-439.png?_v=20190411190841403', 'https://s1.ljcdn.com/matrix_pc/dist/pc/src/resource/default/780-439.png?_v=20190411190841403', 'https://ke-image.ljcdn.com/110000-inspection/ff204aa7-4680-463b-9bb6-5a1304d33e28.jpg.780x439.jpg']\n",
      "7500\n",
      "['近地铁', '集中供暖', '随时看房']\n",
      "3室1厅1卫 73 西南\n",
      "4000608683转7837\n"
     ]
    },
    {
     "name": "stderr",
     "output_type": "stream",
     "text": [
      "\r",
      "  2%|▉                                     | 70/3000 [01:32<1:07:09,  1.38s/it]"
     ]
    },
    {
     "name": "stdout",
     "output_type": "stream",
     "text": [
      "https://bj.zu.ke.com/zufang/BJ2215642935431798784.html 租赁方式未知 丰台 北大地 东幸福街 南北向两居\n",
      "https://bj.zu.ke.com/zufang/BJ2215642935431798784.html 2019-03-19\n",
      "BJ2215642935431798784\n",
      "https://ke-image.ljcdn.com/ehr-personnel/20180822141155680J0A31CB2.jpg\n",
      "无信息卡号。\n",
      "['https://ke-image.ljcdn.com/110000-inspection/57aefd93-8d8b-48c0-8dd9-ecc85420a961.jpg.780x439.jpg', 'https://ke-image.ljcdn.com/hdic-frame/c3213e58-e5a0-413c-b4ec-3c5f08c1b19f.png.780x439.jpg', 'https://s1.ljcdn.com/matrix_pc/dist/pc/src/resource/default/780-439.png?_v=20190411190841403', 'https://s1.ljcdn.com/matrix_pc/dist/pc/src/resource/default/780-439.png?_v=20190411190841403', 'https://s1.ljcdn.com/matrix_pc/dist/pc/src/resource/default/780-439.png?_v=20190411190841403', 'https://s1.ljcdn.com/matrix_pc/dist/pc/src/resource/default/780-439.png?_v=20190411190841403', 'https://ke-image.ljcdn.com/110000-inspection/49a81e86-511b-4fe7-81cd-6fe45863ab5f.jpg.780x439.jpg']\n",
      "4500\n",
      "['近地铁', '集中供暖', '随时看房']\n",
      "2室1厅1卫 65 南 北\n",
      "4000608707转1050\n"
     ]
    },
    {
     "name": "stderr",
     "output_type": "stream",
     "text": [
      "\r",
      "  2%|▉                                     | 71/3000 [01:33<1:06:42,  1.37s/it]"
     ]
    },
    {
     "name": "stdout",
     "output_type": "stream",
     "text": [
      "整租 远洋新天地 2室1厅 LOFT\n",
      "https://bj.zu.ke.com/zufang/BJ2229663591047634944.html 2019-04-07\n",
      "BJ2229663591047634944\n",
      "https://ke-image.ljcdn.com/rent-user-avatar/1943d55f-b556-4020-b435-068198701172\n",
      "无信息卡号。\n",
      "['https://ke-image.ljcdn.com/rent-user-avatar/2217294b-9b7f-41cf-a51f-9a1f5d392e0a.780x439.jpg', 'https://ke-image.ljcdn.com/rent-user-avatar/4572ee65-8342-46da-90dc-781538aab7b3.780x439.jpg', 'https://s1.ljcdn.com/matrix_pc/dist/pc/src/resource/default/780-439.png?_v=20190411190841403', 'https://s1.ljcdn.com/matrix_pc/dist/pc/src/resource/default/780-439.png?_v=20190411190841403', 'https://s1.ljcdn.com/matrix_pc/dist/pc/src/resource/default/780-439.png?_v=20190411190841403', 'https://s1.ljcdn.com/matrix_pc/dist/pc/src/resource/default/780-439.png?_v=20190411190841403', 'https://s1.ljcdn.com/matrix_pc/dist/pc/src/resource/default/780-439.png?_v=20190411190841403', 'https://s1.ljcdn.com/matrix_pc/dist/pc/src/resource/default/780-439.png?_v=20190411190841403', 'https://s1.ljcdn.com/matrix_pc/dist/pc/src/resource/default/780-439.png?_v=20190411190841403', 'https://s1.ljcdn.com/matrix_pc/dist/pc/src/resource/default/780-439.png?_v=20190411190841403', 'https://s1.ljcdn.com/matrix_pc/dist/pc/src/resource/default/780-439.png?_v=20190411190841403', 'https://s1.ljcdn.com/matrix_pc/dist/pc/src/resource/default/780-439.png?_v=20190411190841403', 'https://s1.ljcdn.com/matrix_pc/dist/pc/src/resource/default/780-439.png?_v=20190411190841403', 'https://s1.ljcdn.com/matrix_pc/dist/pc/src/resource/default/780-439.png?_v=20190411190841403', 'https://s1.ljcdn.com/matrix_pc/dist/pc/src/resource/default/780-439.png?_v=20190411190841403', 'https://s1.ljcdn.com/matrix_pc/dist/pc/src/resource/default/780-439.png?_v=20190411190841403', 'https://s1.ljcdn.com/matrix_pc/dist/pc/src/resource/default/780-439.png?_v=20190411190841403', 'https://s1.ljcdn.com/matrix_pc/dist/pc/src/resource/default/780-439.png?_v=20190411190841403', 'https://s1.ljcdn.com/matrix_pc/dist/pc/src/resource/default/780-439.png?_v=20190411190841403', 'https://s1.ljcdn.com/matrix_pc/dist/pc/src/resource/default/780-439.png?_v=20190411190841403', 'https://ke-image.ljcdn.com/rent-user-avatar/ff6d3ca3-16da-4410-936b-b482906dedab.780x439.jpg']\n",
      "4200\n",
      "['在线签约', '公寓', '月租', '近地铁', '精装', '押一付一', '双卫生间', '随时看房']\n",
      "2室1厅2卫 60 东\n",
      "4000608739转6317\n"
     ]
    },
    {
     "name": "stderr",
     "output_type": "stream",
     "text": [
      "  2%|▉                                     | 73/3000 [01:37<1:14:32,  1.53s/it]"
     ]
    },
    {
     "name": "stdout",
     "output_type": "stream",
     "text": [
      "https://bj.zu.ke.com/zufang/BJ2215900340690362368.html 租赁方式未知 南湖东园二区 正规两居室 装修好 短租\n",
      "https://bj.zu.ke.com/zufang/BJ2215900340690362368.html 2019-03-19\n",
      "BJ2215900340690362368\n",
      "https://ke-image.ljcdn.com/ehr-personnel/20180822113035543UQ4HU7EH.jpg\n",
      "无信息卡号。\n",
      "['https://ke-image.ljcdn.com/110000-inspection/prod-790f8100-d0cf-42a5-80b9-bce940346a0d.jpg.780x439.jpg', 'https://ke-image.ljcdn.com/110000-inspection/prod-ede2bb80-bba3-45c5-9b27-dca4c0fb075d.jpg.780x439.jpg', 'https://s1.ljcdn.com/matrix_pc/dist/pc/src/resource/default/780-439.png?_v=20190411190841403', 'https://s1.ljcdn.com/matrix_pc/dist/pc/src/resource/default/780-439.png?_v=20190411190841403', 'https://s1.ljcdn.com/matrix_pc/dist/pc/src/resource/default/780-439.png?_v=20190411190841403', 'https://s1.ljcdn.com/matrix_pc/dist/pc/src/resource/default/780-439.png?_v=20190411190841403', 'https://s1.ljcdn.com/matrix_pc/dist/pc/src/resource/default/780-439.png?_v=20190411190841403', 'https://ke-image.ljcdn.com/110000-inspection/prod-0d437560-ab48-4e25-bb31-1ac4d3198ed6.jpg.780x439.jpg']\n",
      "8200\n",
      "['月租', '近地铁', '集中供暖', '随时看房']\n",
      "2室1厅1卫 77 南 北\n",
      "4000608707转9045\n"
     ]
    },
    {
     "name": "stderr",
     "output_type": "stream",
     "text": [
      "\r",
      "  2%|▉                                     | 74/3000 [01:38<1:09:10,  1.42s/it]"
     ]
    },
    {
     "name": "stdout",
     "output_type": "stream",
     "text": [
      "整租 10号线 前泥洼1号楼简装 两居室，拎包入住\n",
      "https://bj.zu.ke.com/zufang/BJ2215961409722777600.html 2019-03-19\n",
      "BJ2215961409722777600\n",
      "https://ke-image.ljcdn.com/ehr-personnel/20181230103548600BFODCWHH.jpg\n",
      "无信息卡号。\n",
      "['https://ke-image.ljcdn.com/110000-inspection/60a54c51-87ff-419f-b86e-4546ffdf7be6.jpg.780x439.jpg', 'https://ke-image.ljcdn.com/hdic-frame/de8c80c1-63f5-471c-ac54-8d92969d990a.png.780x439.jpg', 'https://s1.ljcdn.com/matrix_pc/dist/pc/src/resource/default/780-439.png?_v=20190411190841403', 'https://s1.ljcdn.com/matrix_pc/dist/pc/src/resource/default/780-439.png?_v=20190411190841403', 'https://s1.ljcdn.com/matrix_pc/dist/pc/src/resource/default/780-439.png?_v=20190411190841403', 'https://s1.ljcdn.com/matrix_pc/dist/pc/src/resource/default/780-439.png?_v=20190411190841403', 'https://ke-image.ljcdn.com/110000-inspection/8d96de03-b24a-44cc-bebf-855b2dc30468.jpg.780x439.jpg']\n",
      "5000\n",
      "['近地铁', '随时看房']\n",
      "2室1厅1卫 55 南 北\n",
      "4000608727转7673\n"
     ]
    },
    {
     "name": "stderr",
     "output_type": "stream",
     "text": [
      "\r",
      "  2%|▉                                     | 75/3000 [01:40<1:14:26,  1.53s/it]"
     ]
    },
    {
     "name": "stdout",
     "output_type": "stream",
     "text": [
      "整租 远洋新天地 1室1厅 LOFT\n",
      "https://bj.zu.ke.com/zufang/BJ2230364052532494336.html 2019-04-08\n",
      "BJ2230364052532494336\n",
      "https://ke-image.ljcdn.com/rent-user-avatar/1943d55f-b556-4020-b435-068198701172\n",
      "无信息卡号。\n",
      "['https://ke-image.ljcdn.com/rent-user-avatar/35a6bec6-ba38-45c8-9bbe-d69b3dc994af.780x439.jpg', 'https://ke-image.ljcdn.com/rent-user-avatar/4d4020ac-bcfc-438a-8791-4091a86da918.780x439.jpg', 'https://s1.ljcdn.com/matrix_pc/dist/pc/src/resource/default/780-439.png?_v=20190411190841403', 'https://s1.ljcdn.com/matrix_pc/dist/pc/src/resource/default/780-439.png?_v=20190411190841403', 'https://s1.ljcdn.com/matrix_pc/dist/pc/src/resource/default/780-439.png?_v=20190411190841403', 'https://s1.ljcdn.com/matrix_pc/dist/pc/src/resource/default/780-439.png?_v=20190411190841403', 'https://s1.ljcdn.com/matrix_pc/dist/pc/src/resource/default/780-439.png?_v=20190411190841403', 'https://s1.ljcdn.com/matrix_pc/dist/pc/src/resource/default/780-439.png?_v=20190411190841403', 'https://s1.ljcdn.com/matrix_pc/dist/pc/src/resource/default/780-439.png?_v=20190411190841403', 'https://s1.ljcdn.com/matrix_pc/dist/pc/src/resource/default/780-439.png?_v=20190411190841403', 'https://s1.ljcdn.com/matrix_pc/dist/pc/src/resource/default/780-439.png?_v=20190411190841403', 'https://s1.ljcdn.com/matrix_pc/dist/pc/src/resource/default/780-439.png?_v=20190411190841403', 'https://s1.ljcdn.com/matrix_pc/dist/pc/src/resource/default/780-439.png?_v=20190411190841403', 'https://s1.ljcdn.com/matrix_pc/dist/pc/src/resource/default/780-439.png?_v=20190411190841403', 'https://s1.ljcdn.com/matrix_pc/dist/pc/src/resource/default/780-439.png?_v=20190411190841403', 'https://s1.ljcdn.com/matrix_pc/dist/pc/src/resource/default/780-439.png?_v=20190411190841403', 'https://s1.ljcdn.com/matrix_pc/dist/pc/src/resource/default/780-439.png?_v=20190411190841403', 'https://s1.ljcdn.com/matrix_pc/dist/pc/src/resource/default/780-439.png?_v=20190411190841403', 'https://ke-image.ljcdn.com/rent-user-avatar/e31feca4-6e76-476c-a801-640d5fa5ab08.780x439.jpg']\n",
      "3000\n",
      "['在线签约', '公寓', '月租', '近地铁', '精装', '押一付一', '新上', '随时看房']\n",
      "1室1厅1卫 38 北\n",
      "4000608257转8771\n"
     ]
    },
    {
     "name": "stderr",
     "output_type": "stream",
     "text": [
      "  3%|█                                       | 77/3000 [01:41<55:31,  1.14s/it]"
     ]
    },
    {
     "name": "stdout",
     "output_type": "stream",
     "text": [
      "https://bj.zu.ke.com/zufang/BJ2216478820239163392.html 租赁方式未知 六铺炕一区 2室1厅 7500元\n",
      "https://bj.zu.ke.com/zufang/BJ2216478820239163392.html 2019-03-20\n",
      "BJ2216478820239163392\n",
      "https://ke-image.ljcdn.com/ehr-personnel/20180828192130839IZXLTYHH.jpg\n",
      "无信息卡号。\n",
      "['https://ke-image.ljcdn.com/110000-inspection/8fb6faa7-6ec5-460f-8da6-104728c3e760.jpg.780x439.jpg', 'https://ke-image.ljcdn.com/hdic-frame/prod-fd3d63e7-b5de-434e-bdc2-f1abd7963921.png.780x439.jpg', 'https://s1.ljcdn.com/matrix_pc/dist/pc/src/resource/default/780-439.png?_v=20190411190841403', 'https://s1.ljcdn.com/matrix_pc/dist/pc/src/resource/default/780-439.png?_v=20190411190841403', 'https://s1.ljcdn.com/matrix_pc/dist/pc/src/resource/default/780-439.png?_v=20190411190841403', 'https://s1.ljcdn.com/matrix_pc/dist/pc/src/resource/default/780-439.png?_v=20190411190841403', 'https://ke-image.ljcdn.com/110000-inspection/aa88c693-c7f8-4e47-bd50-ae4beb5b508b.jpg.780x439.jpg']\n",
      "7500\n",
      "['近地铁', '集中供暖', '随时看房']\n",
      "2室1厅1卫 42 南\n",
      "4000608687转1405\n"
     ]
    },
    {
     "name": "stderr",
     "output_type": "stream",
     "text": [
      "\r",
      "  3%|▉                                     | 78/3000 [01:43<1:03:53,  1.31s/it]"
     ]
    },
    {
     "name": "stdout",
     "output_type": "stream",
     "text": [
      "整租 长景新园 1室0厅 3100元\n",
      "https://bj.zu.ke.com/zufang/BJ2216530611949551616.html 2019-03-20\n",
      "BJ2216530611949551616\n",
      "https://ke-image.ljcdn.com/ehr-personnel/20180919110902811FYXQL0F6.jpg\n",
      "无信息卡号。\n",
      "['https://ke-image.ljcdn.com/hdic-frame/prod-944253db-5f7e-43ac-8b03-8e8a16f35f8b.png.780x439.jpg', 'https://ke-image.ljcdn.com/110000-inspection/prod-dbb03327-9941-4042-ab3e-7f48cf2d913f.jpg.780x439.jpg', 'https://s1.ljcdn.com/matrix_pc/dist/pc/src/resource/default/780-439.png?_v=20190411190841403', 'https://s1.ljcdn.com/matrix_pc/dist/pc/src/resource/default/780-439.png?_v=20190411190841403', 'https://ke-image.ljcdn.com/110000-inspection/prod-c9a097d6-51b5-4cb2-bf21-eba1eaa60d5c.jpg.780x439.jpg']\n",
      "3100\n",
      "['近地铁', '随时看房']\n",
      "1室0厅1卫 49 南\n",
      "4000608245转4983\n"
     ]
    },
    {
     "name": "stderr",
     "output_type": "stream",
     "text": [
      "\r",
      "  3%|█                                     | 79/3000 [01:44<1:04:17,  1.32s/it]"
     ]
    },
    {
     "name": "stdout",
     "output_type": "stream",
     "text": [
      "整租 新源街 1室1厅 5300元\n",
      "https://bj.zu.ke.com/zufang/BJ2217122427212152832.html 2019-03-21\n",
      "BJ2217122427212152832\n",
      "https://ke-image.ljcdn.com/ehr-personnel/20180822113338857SQUETMP1.jpg\n",
      "无信息卡号。\n",
      "['https://ke-image.ljcdn.com/110000-inspection/fbfcacb6-dd51-493a-98a9-c890a2f772e7.jpg.780x439.jpg', 'https://ke-image.ljcdn.com/hdic-frame/d28f8cfe-ecc9-4226-9d48-0584628ef2cb.png.780x439.jpg', 'https://s1.ljcdn.com/matrix_pc/dist/pc/src/resource/default/780-439.png?_v=20190411190841403', 'https://s1.ljcdn.com/matrix_pc/dist/pc/src/resource/default/780-439.png?_v=20190411190841403', 'https://s1.ljcdn.com/matrix_pc/dist/pc/src/resource/default/780-439.png?_v=20190411190841403', 'https://ke-image.ljcdn.com/110000-inspection/74746f12-46fd-4259-9948-d4efc42d6534.jpg.780x439.jpg']\n",
      "5300\n",
      "['近地铁', '集中供暖', '随时看房']\n",
      "1室1厅1卫 46 东南\n",
      "4000608265转2654\n"
     ]
    },
    {
     "name": "stderr",
     "output_type": "stream",
     "text": [
      "\r",
      "  3%|█                                     | 80/3000 [01:46<1:04:03,  1.32s/it]"
     ]
    }
   ],
   "source": [
    "%%time\n",
    "df = Ke().ke_scraper()"
   ]
  },
  {
   "cell_type": "code",
   "execution_count": null,
   "metadata": {},
   "outputs": [],
   "source": [
    "df"
   ]
  },
  {
   "cell_type": "code",
   "execution_count": null,
   "metadata": {},
   "outputs": [],
   "source": [
    "len(df)"
   ]
  },
  {
   "cell_type": "code",
   "execution_count": null,
   "metadata": {},
   "outputs": [],
   "source": []
  }
 ],
 "metadata": {
  "kernelspec": {
   "display_name": "Python 3",
   "language": "python",
   "name": "python3"
  },
  "language_info": {
   "codemirror_mode": {
    "name": "ipython",
    "version": 3
   },
   "file_extension": ".py",
   "mimetype": "text/x-python",
   "name": "python",
   "nbconvert_exporter": "python",
   "pygments_lexer": "ipython3",
   "version": "3.7.1"
  }
 },
 "nbformat": 4,
 "nbformat_minor": 2
}
