{
 "cells": [
  {
   "cell_type": "code",
   "execution_count": 1,
   "metadata": {},
   "outputs": [],
   "source": [
    "from ke import Ke"
   ]
  },
  {
   "cell_type": "markdown",
   "metadata": {},
   "source": [
    "# Rent\n",
    "\n",
    "### Debug\n",
    "1. 有未知报错，请检查: https://bj.zu.ke.com/zufang/BJ2231281092281761792.html\n",
    "2. 为什么3000次循环只保存下1571行数据？\n",
    "\n",
    "### Performance\n",
    "1. 2019-4-17 14:08:30  `1h 11min 48s`,`1571 rows × 42 columns`"
   ]
  },
  {
   "cell_type": "code",
   "execution_count": 2,
   "metadata": {
    "scrolled": true
   },
   "outputs": [
    {
     "name": "stdout",
     "output_type": "stream",
     "text": [
      "开始获取当前筛选条件下的所有房源页链接。\n"
     ]
    },
    {
     "name": "stderr",
     "output_type": "stream",
     "text": [
      "100%|████████████████████████████████████████████| 3/3 [00:02<00:00,  1.11it/s]\n"
     ]
    },
    {
     "name": "stdout",
     "output_type": "stream",
     "text": [
      "开始获取房源具体信息。\n"
     ]
    },
    {
     "name": "stderr",
     "output_type": "stream",
     "text": [
      "\r",
      "  0%|                                                    | 0/2 [00:00<?, ?it/s]"
     ]
    },
    {
     "name": "stdout",
     "output_type": "stream",
     "text": [
      "[{\"成交日期\":null,\"居室\":null,\"面积\":null,\"租赁方式\":null,\"出租价格\":null},{\"成交日期\":\"2019-04-02\",\"居室\":\"2室0厅1卫\",\"面积\":\"70㎡\",\"租赁方式\":\"整租\",\"出租价格\":\"10700元\\/月\"},{\"成交日期\":\"2019-03-16\",\"居室\":\"1室0厅2卫\",\"面积\":\"59㎡\",\"租赁方式\":\"整租\",\"出租价格\":\"8500元\\/月\"},{\"成交日期\":\"2019-03-13\",\"居室\":\"1室1厅1卫\",\"面积\":\"86㎡\",\"租赁方式\":\"整租\",\"出租价格\":\"15200元\\/月\"}]\n"
     ]
    },
    {
     "name": "stderr",
     "output_type": "stream",
     "text": [
      "\r",
      " 50%|██████████████████████                      | 1/2 [00:02<00:02,  2.11s/it]"
     ]
    },
    {
     "name": "stdout",
     "output_type": "stream",
     "text": [
      "[{\"成交日期\":null,\"居室\":null,\"面积\":null,\"租赁方式\":null,\"出租价格\":null},{\"成交日期\":\"2019-04-10\",\"居室\":\"1室1厅1卫\",\"面积\":\"64㎡\",\"租赁方式\":\"整租\",\"出租价格\":\"5000元\\/月\"},{\"成交日期\":\"2019-04-03\",\"居室\":\"3室1厅1卫\",\"面积\":\"118㎡\",\"租赁方式\":\"整租\",\"出租价格\":\"8200元\\/月\"},{\"成交日期\":\"2019-04-01\",\"居室\":\"2室1厅1卫\",\"面积\":\"98㎡\",\"租赁方式\":\"整租\",\"出租价格\":\"6700元\\/月\"}]\n"
     ]
    },
    {
     "name": "stderr",
     "output_type": "stream",
     "text": [
      "100%|████████████████████████████████████████████| 2/2 [00:03<00:00,  1.92s/it]\n"
     ]
    },
    {
     "name": "stdout",
     "output_type": "stream",
     "text": [
      "Wall time: 13.6 s\n"
     ]
    }
   ],
   "source": [
    "%%time\n",
    "df = Ke().ke_scraper_rent(export='csv')"
   ]
  },
  {
   "cell_type": "code",
   "execution_count": 3,
   "metadata": {
    "scrolled": true
   },
   "outputs": [
    {
     "data": {
      "text/html": [
       "<div>\n",
       "<style scoped>\n",
       "    .dataframe tbody tr th:only-of-type {\n",
       "        vertical-align: middle;\n",
       "    }\n",
       "\n",
       "    .dataframe tbody tr th {\n",
       "        vertical-align: top;\n",
       "    }\n",
       "\n",
       "    .dataframe thead th {\n",
       "        text-align: right;\n",
       "    }\n",
       "</style>\n",
       "<table border=\"1\" class=\"dataframe\">\n",
       "  <thead>\n",
       "    <tr style=\"text-align: right;\">\n",
       "      <th></th>\n",
       "      <th>0</th>\n",
       "      <th>类型</th>\n",
       "      <th>标题</th>\n",
       "      <th>上架时间</th>\n",
       "      <th>编号</th>\n",
       "      <th>信息卡照片</th>\n",
       "      <th>信息卡号</th>\n",
       "      <th>营业执照</th>\n",
       "      <th>经纪备案</th>\n",
       "      <th>房源图片列表</th>\n",
       "      <th>...</th>\n",
       "      <th>地址和交通</th>\n",
       "      <th>小区最新成交</th>\n",
       "      <th>房源描述</th>\n",
       "      <th>房源链接</th>\n",
       "      <th>城市</th>\n",
       "      <th>城区</th>\n",
       "      <th>商圈</th>\n",
       "      <th>小区名称</th>\n",
       "      <th>小区链接</th>\n",
       "      <th>每平米房价</th>\n",
       "    </tr>\n",
       "  </thead>\n",
       "  <tbody>\n",
       "    <tr>\n",
       "      <th>1</th>\n",
       "      <td>1</td>\n",
       "      <td>整租</td>\n",
       "      <td>金台路地铁 近朝阳公园 装修好 诚意出租 带车位</td>\n",
       "      <td>2019-03-23</td>\n",
       "      <td>BJ2163168689300439040</td>\n",
       "      <td>https://ke-image.ljcdn.com/ehr-personnel/20180...</td>\n",
       "      <td></td>\n",
       "      <td></td>\n",
       "      <td></td>\n",
       "      <td>[\"https://ke-image.ljcdn.com/110000-inspection...</td>\n",
       "      <td>...</td>\n",
       "      <td>[[\"6号线,14号线东段\", \"金台路\", 109], [\"14号线东段\", \"朝阳公园\"...</td>\n",
       "      <td>[{\"成交日期\":null,\"居室\":null,\"面积\":null,\"租赁方式\":null,...</td>\n",
       "      <td>【房源亮点】 业主诚意出租 家具家电齐全 业主平时不需要房子可以长租。希望可以找一个稳定点的...</td>\n",
       "      <td>https://bj.zu.ke.com/zufang/BJ2163168689300439...</td>\n",
       "      <td>北京</td>\n",
       "      <td>朝阳</td>\n",
       "      <td>甜水园</td>\n",
       "      <td>公园五号</td>\n",
       "      <td>https://bj.zu.ke.com/zufang/c1111027374826/</td>\n",
       "      <td>195.12</td>\n",
       "    </tr>\n",
       "    <tr>\n",
       "      <th>2</th>\n",
       "      <td>3</td>\n",
       "      <td>整租</td>\n",
       "      <td>三环新城7号院 2室1厅</td>\n",
       "      <td>2019-04-10</td>\n",
       "      <td>BJ2231422598192046080</td>\n",
       "      <td>https://ke-image.ljcdn.com/rent-house-1/b583fb...</td>\n",
       "      <td></td>\n",
       "      <td></td>\n",
       "      <td></td>\n",
       "      <td>[\"https://ke-image.ljcdn.com/rent-house-1/2b65...</td>\n",
       "      <td>...</td>\n",
       "      <td>[[\"10号线\", \"丰台站\", 65], [\"10号线\", \"首经贸\", 1195]]</td>\n",
       "      <td>[{\"成交日期\":null,\"居室\":null,\"面积\":null,\"租赁方式\":null,...</td>\n",
       "      <td>阿娇东西撒U型地哦啊成麻烦让我莫iwapenpoiawe倒萨的更换为球队与网球已丢失一哦对后...</td>\n",
       "      <td>https://bj.zu.ke.com/zufang/BJ2231422598192046...</td>\n",
       "      <td>北京</td>\n",
       "      <td>丰台</td>\n",
       "      <td>玉泉营</td>\n",
       "      <td>三环新城7号院</td>\n",
       "      <td>https://bj.zu.ke.com/zufang/c1111027379295/</td>\n",
       "      <td>106.19</td>\n",
       "    </tr>\n",
       "  </tbody>\n",
       "</table>\n",
       "<p>2 rows × 48 columns</p>\n",
       "</div>"
      ],
      "text/plain": [
       "0  0  类型                        标题        上架时间                     编号  \\\n",
       "1  1  整租  金台路地铁 近朝阳公园 装修好 诚意出租 带车位  2019-03-23  BJ2163168689300439040   \n",
       "2  3  整租              三环新城7号院 2室1厅  2019-04-10  BJ2231422598192046080   \n",
       "\n",
       "0                                              信息卡照片 信息卡号 营业执照 经纪备案  \\\n",
       "1  https://ke-image.ljcdn.com/ehr-personnel/20180...                  \n",
       "2  https://ke-image.ljcdn.com/rent-house-1/b583fb...                  \n",
       "\n",
       "0                                             房源图片列表   ...    \\\n",
       "1  [\"https://ke-image.ljcdn.com/110000-inspection...   ...     \n",
       "2  [\"https://ke-image.ljcdn.com/rent-house-1/2b65...   ...     \n",
       "\n",
       "0                                              地址和交通  \\\n",
       "1  [[\"6号线,14号线东段\", \"金台路\", 109], [\"14号线东段\", \"朝阳公园\"...   \n",
       "2       [[\"10号线\", \"丰台站\", 65], [\"10号线\", \"首经贸\", 1195]]   \n",
       "\n",
       "0                                             小区最新成交  \\\n",
       "1  [{\"成交日期\":null,\"居室\":null,\"面积\":null,\"租赁方式\":null,...   \n",
       "2  [{\"成交日期\":null,\"居室\":null,\"面积\":null,\"租赁方式\":null,...   \n",
       "\n",
       "0                                               房源描述  \\\n",
       "1  【房源亮点】 业主诚意出租 家具家电齐全 业主平时不需要房子可以长租。希望可以找一个稳定点的...   \n",
       "2  阿娇东西撒U型地哦啊成麻烦让我莫iwapenpoiawe倒萨的更换为球队与网球已丢失一哦对后...   \n",
       "\n",
       "0                                               房源链接  城市  城区   商圈     小区名称  \\\n",
       "1  https://bj.zu.ke.com/zufang/BJ2163168689300439...  北京  朝阳  甜水园     公园五号   \n",
       "2  https://bj.zu.ke.com/zufang/BJ2231422598192046...  北京  丰台  玉泉营  三环新城7号院   \n",
       "\n",
       "0                                         小区链接   每平米房价  \n",
       "1  https://bj.zu.ke.com/zufang/c1111027374826/  195.12  \n",
       "2  https://bj.zu.ke.com/zufang/c1111027379295/  106.19  \n",
       "\n",
       "[2 rows x 48 columns]"
      ]
     },
     "execution_count": 3,
     "metadata": {},
     "output_type": "execute_result"
    }
   ],
   "source": [
    "df"
   ]
  },
  {
   "cell_type": "code",
   "execution_count": null,
   "metadata": {},
   "outputs": [],
   "source": []
  }
 ],
 "metadata": {
  "kernelspec": {
   "display_name": "Python 3",
   "language": "python",
   "name": "python3"
  },
  "language_info": {
   "codemirror_mode": {
    "name": "ipython",
    "version": 3
   },
   "file_extension": ".py",
   "mimetype": "text/x-python",
   "name": "python",
   "nbconvert_exporter": "python",
   "pygments_lexer": "ipython3",
   "version": "3.7.1"
  }
 },
 "nbformat": 4,
 "nbformat_minor": 2
}
